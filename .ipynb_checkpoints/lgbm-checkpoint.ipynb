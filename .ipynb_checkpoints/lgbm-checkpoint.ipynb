{
 "cells": [
  {
   "cell_type": "code",
   "execution_count": 1,
   "metadata": {
    "_cell_guid": "b1076dfc-b9ad-4769-8c92-a6c4dae69d19",
    "_uuid": "8f2839f25d086af736a60e9eeb907d3b93b6e0e5",
    "execution": {
     "iopub.execute_input": "2022-11-18T09:23:47.771228Z",
     "iopub.status.busy": "2022-11-18T09:23:47.770794Z",
     "iopub.status.idle": "2022-11-18T09:23:47.812153Z",
     "shell.execute_reply": "2022-11-18T09:23:47.811019Z",
     "shell.execute_reply.started": "2022-11-18T09:23:47.771164Z"
    }
   },
   "outputs": [
    {
     "name": "stdout",
     "output_type": "stream",
     "text": [
      "/kaggle/input/d/luyangshang/finance/data.csv\n"
     ]
    }
   ],
   "source": [
    "# This Python 3 environment comes with many helpful analytics libraries installed\n",
    "# It is defined by the kaggle/python Docker image: https://github.com/kaggle/docker-python\n",
    "# For example, here's several helpful packages to load\n",
    "\n",
    "import numpy as np # linear algebra\n",
    "import pandas as pd # data processing, CSV file I/O (e.g. pd.read_csv)\n",
    "\n",
    "# Input data files are available in the read-only \"../input/\" directory\n",
    "# For example, running this (by clicking run or pressing Shift+Enter) will list all files under the input directory\n",
    "\n",
    "import os\n",
    "for dirname, _, filenames in os.walk('/kaggle/input'):\n",
    "    for filename in filenames:\n",
    "        print(os.path.join(dirname, filename))\n",
    "\n",
    "# You can write up to 20GB to the current directory (/kaggle/working/) that gets preserved as output when you create a version using \"Save & Run All\" \n",
    "# You can also write temporary files to /kaggle/temp/, but they won't be saved outside of the current session"
   ]
  },
  {
   "cell_type": "code",
   "execution_count": 17,
   "metadata": {
    "execution": {
     "iopub.execute_input": "2022-11-18T09:33:51.815473Z",
     "iopub.status.busy": "2022-11-18T09:33:51.815091Z",
     "iopub.status.idle": "2022-11-18T09:33:51.829950Z",
     "shell.execute_reply": "2022-11-18T09:33:51.828520Z",
     "shell.execute_reply.started": "2022-11-18T09:33:51.815448Z"
    }
   },
   "outputs": [],
   "source": [
    "import argparse\n",
    "import pandas as pd\n",
    "from scipy.stats.mstats import winsorize\n",
    "import lightgbm as lgb\n",
    "import numpy as np\n",
    "\n",
    "def harness(data_path):\n",
    "\n",
    "    # Load dataset\n",
    "    df = pd.read_csv(data_path)\n",
    "\n",
    "    # transform column\n",
    "    df['current_asst_liability_ratio'] = df['asst_current']/(df['asst_tot']-df['eqty_tot'])\n",
    "    df['current_ratio_st'] = df['asst_current']/(df['debt_bank_st'] + df['debt_fin_st'] + df['AP_st'] + df['debt_st'])\n",
    "    df['intangible_asst_ratio'] = df['asst_intang_fixed']/df['asst_tot']\n",
    "    df['current_asst_ratio'] = df['asst_current']/df['asst_tot']\n",
    "    df['cash_liability_ratio'] = df['cf_operations']/(df['debt_bank_st'] + df['debt_fin_st'] + df['AP_st'] + df['debt_st'])\n",
    "    df['capital_employed'] = df['asst_tot'] - (df['debt_bank_st'] + df['debt_fin_st'] + df['AP_st'] + df['debt_st'])\n",
    "    df['capital_turnover_ratio'] = (df['rev_operating']-df['COGS'])/df['capital_employed']\n",
    "    df['ROCE'] = df['ebitda']/df['capital_employed']\n",
    "    df['log_total_asset']=np.log(df['asst_tot'])\n",
    "    df['debt_coverage_ratio'] = (df['ebitda'])/(df['debt_st'])\n",
    "    df['leverage'] = (df['asst_tot'] - df['eqty_tot']) / df['eqty_tot']\n",
    "    df['interest_coverage_ratio']=df['ebitda']/df['exp_financing']\n",
    "    df['extraord_ratio'] = df['inc_extraord']/ df['rev_operating']\n",
    "    df['finance_rev_ratio'] = df['inc_financing']/df['rev_operating']\n",
    "    df['equity_asst_ratio'] = df['eqty_tot']/df['asst_tot']\n",
    "    df['cash_asst_ratio'] = df['cf_operations']/df['asst_tot']\n",
    "\n",
    "    # remove irrelavent columns\n",
    "    df = df[['current_ratio_st',\n",
    " 'roa',\n",
    " 'cash_asst_ratio',\n",
    " 'current_asst_ratio',\n",
    " 'current_asst_liability_ratio',\n",
    " 'debt_coverage_ratio',\n",
    " 'intangible_asst_ratio',\n",
    " 'capital_turnover_ratio',\n",
    " 'equity_asst_ratio',\n",
    " 'roe',\n",
    " 'ROCE',\n",
    " 'leverage',\n",
    " 'log_total_asset',\n",
    " 'cash_liability_ratio',\n",
    " 'interest_coverage_ratio',\n",
    " 'finance_rev_ratio',\n",
    " 'capital_employed',\n",
    " 'extraord_ratio']]\n",
    "\n",
    "    # winsorize and fillna\n",
    "    for col in df.columns:\n",
    "        df[col] = pd.Series(winsorize(df[col],limits=[0.2,0.2],nan_policy='omit')) \n",
    "        df[col] = df[col].fillna(df[col].mean())\n",
    "\n",
    "    model = lgb.Booster(model_file='../input/lgb-paramter/lgb_classifier.txt')\n",
    "\n",
    "    pd.DataFrame(model.predict(df),columns=['default_prob']).to_csv('output.csv')"
   ]
  },
  {
   "cell_type": "code",
   "execution_count": 18,
   "metadata": {
    "execution": {
     "iopub.execute_input": "2022-11-18T09:33:52.867385Z",
     "iopub.status.busy": "2022-11-18T09:33:52.866965Z",
     "iopub.status.idle": "2022-11-18T09:34:02.578675Z",
     "shell.execute_reply": "2022-11-18T09:34:02.577302Z",
     "shell.execute_reply.started": "2022-11-18T09:33:52.867357Z"
    }
   },
   "outputs": [],
   "source": [
    "harness('../input/full-finance-dataset/train.csv')"
   ]
  },
  {
   "cell_type": "code",
   "execution_count": 10,
   "metadata": {
    "execution": {
     "iopub.execute_input": "2022-11-18T09:30:28.608451Z",
     "iopub.status.busy": "2022-11-18T09:30:28.608111Z",
     "iopub.status.idle": "2022-11-18T09:30:50.008133Z",
     "shell.execute_reply": "2022-11-18T09:30:50.007471Z",
     "shell.execute_reply.started": "2022-11-18T09:30:28.608426Z"
    }
   },
   "outputs": [],
   "source": [
    "df = pd.read_csv('../input/full-finance-dataset/train.csv')\n",
    "# create default variable\n",
    "def defaulted(ser):\n",
    "    if pd.isnull(ser['def_date']) or (ser['def_date'] - ser['stmt_date']).days > 365:\n",
    "        return 0 \n",
    "    else:\n",
    "        return 1\n",
    "\n",
    "df['stmt_date'] = pd.to_datetime(df['stmt_date'])\n",
    "df['def_date'] = pd.to_datetime(df['def_date'])\n",
    "df['defaulted'] = df.apply(defaulted,axis=1)"
   ]
  },
  {
   "cell_type": "code",
   "execution_count": 19,
   "metadata": {
    "execution": {
     "iopub.execute_input": "2022-11-18T09:34:31.879358Z",
     "iopub.status.busy": "2022-11-18T09:34:31.879020Z",
     "iopub.status.idle": "2022-11-18T09:34:32.394241Z",
     "shell.execute_reply": "2022-11-18T09:34:32.393343Z",
     "shell.execute_reply.started": "2022-11-18T09:34:31.879311Z"
    }
   },
   "outputs": [
    {
     "data": {
      "text/plain": [
       "0.8951198290471752"
      ]
     },
     "execution_count": 19,
     "metadata": {},
     "output_type": "execute_result"
    }
   ],
   "source": [
    "roc_auc_score(df['defaulted'],pd.read_csv('./output.csv')['default_prob'])"
   ]
  },
  {
   "cell_type": "code",
   "execution_count": 15,
   "metadata": {
    "execution": {
     "iopub.execute_input": "2022-11-18T09:32:25.659316Z",
     "iopub.status.busy": "2022-11-18T09:32:25.658985Z",
     "iopub.status.idle": "2022-11-18T09:32:25.726503Z",
     "shell.execute_reply": "2022-11-18T09:32:25.725167Z",
     "shell.execute_reply.started": "2022-11-18T09:32:25.659293Z"
    }
   },
   "outputs": [],
   "source": [
    "import pandas as pd\n",
    "import datetime\n",
    "import seaborn as sns\n",
    "import numpy as np\n",
    "import matplotlib.pyplot as plt\n",
    "from scipy.stats import mstats\n",
    "import random\n",
    "import lightgbm as lgb\n",
    "import gc\n",
    "import multiprocessing \n",
    "from sklearn.metrics import roc_auc_score\n",
    "from sklearn.model_selection import KFold"
   ]
  },
  {
   "cell_type": "code",
   "execution_count": null,
   "metadata": {},
   "outputs": [],
   "source": []
  },
  {
   "cell_type": "code",
   "execution_count": null,
   "metadata": {},
   "outputs": [],
   "source": [
    "df = pd.read_csv('../input/d/luyangshang/finance/data.csv')\n",
    "df = df.drop(columns = ['Unnamed: 0'])"
   ]
  },
  {
   "cell_type": "code",
   "execution_count": null,
   "metadata": {},
   "outputs": [],
   "source": [
    "id_lst = df.index.unique().tolist()\n",
    "random.shuffle(id_lst)\n",
    "train_id = id_lst[:int(len(id_lst)*0.7)]\n",
    "test_id = id_lst[int(len(id_lst)*0.7):]\n",
    "df.loc[test_id]"
   ]
  },
  {
   "cell_type": "code",
   "execution_count": null,
   "metadata": {},
   "outputs": [],
   "source": [
    "df = df.set_index('id')"
   ]
  },
  {
   "cell_type": "code",
   "execution_count": null,
   "metadata": {},
   "outputs": [],
   "source": [
    "id_lst = df.index.unique().tolist()[:int(len(id_lst)*0.7)]\n",
    "random.shuffle(id_lst)\n",
    "train_id = id_lst[:int(len(id_lst)*0.7)]\n",
    "test_id = id_lst[int(len(id_lst)*0.7):]\n",
    "train = df.loc[train_id]\n",
    "test = df.loc[test_id]"
   ]
  },
  {
   "cell_type": "code",
   "execution_count": null,
   "metadata": {},
   "outputs": [],
   "source": [
    "feature"
   ]
  },
  {
   "cell_type": "code",
   "execution_count": null,
   "metadata": {},
   "outputs": [],
   "source": [
    "# 删掉无用特征\n",
    "feature = [x for x in train.columns]\n",
    "feature = list(set(feature))\n",
    "feature.remove('defaulted')\n",
    "print(len(feature))"
   ]
  },
  {
   "cell_type": "code",
   "execution_count": null,
   "metadata": {},
   "outputs": [],
   "source": [
    "len(id_lst)"
   ]
  },
  {
   "cell_type": "code",
   "execution_count": null,
   "metadata": {},
   "outputs": [],
   "source": [
    "id_lst = pd.Series(id_lst)\n",
    "id_lst"
   ]
  },
  {
   "cell_type": "code",
   "execution_count": null,
   "metadata": {},
   "outputs": [],
   "source": [
    "params = {'num_leaves': 63, #结果对最终效果影响较大，越大值越好，太大会出现过拟合\n",
    "          'objective': 'binary', #定义的目标函数\n",
    "          'max_depth': -1,\n",
    "          'learning_rate': 0.1,\n",
    "          \"min_sum_hessian_in_leaf\": 6,\n",
    "          \"boosting\": \"gbdt\",\n",
    "          \"feature_fraction\": 1,  #提取的特征比率\n",
    "          \"bagging_freq\": 1,\n",
    "          \"bagging_fraction\": 1,\n",
    "          \"bagging_seed\": 11,\n",
    "#           \"lambda_l1\": 0.1,             #l1正则\n",
    "          # 'lambda_l2': 0.001,     #l2正则\n",
    "          \"verbosity\": -1,\n",
    "          \"nthread\": multiprocessing.cpu_count(),                #线程数量，-1表示全部线程，线程越多，运行的速度越快\n",
    "          'metric': {'binary_logloss', 'auc'},  ##评价函数选择\n",
    "          \"random_state\": 2077, #随机数种子，可以防止每次运行的结果不一致\n",
    "          # 'device': 'gpu' ##如果安装的事gpu版本的lightgbm,可以加快运算\n",
    "          }\n",
    "\n",
    "n_fold = 5\n",
    "# oof_pre = np.zeros(len(train))\n",
    "y_pre = np.zeros(len(test))\n",
    "\n",
    "kf = KFold(n_splits=5)\n",
    "for train_index, test_index in kf.split(id_lst):\n",
    "    train_id, val_id = id_lst[train_index], id_lst[test_index]\n",
    "\n",
    "\n",
    "    \n",
    "    trn_data = lgb.Dataset(train[feature].loc[train_id], label=train['defaulted'].loc[train_id])\n",
    "    val_data = lgb.Dataset(train[feature].loc[val_id], label=train['defaulted'].loc[val_id])\n",
    "\n",
    "    clf = lgb.train(params,\n",
    "                    trn_data,\n",
    "                    2000,\n",
    "                    valid_sets=[trn_data, val_data],\n",
    "                    verbose_eval=50,\n",
    "                    early_stopping_rounds=50)\n",
    "    # out of fold\n",
    "    # oof_pre[val_id] = clf.predict(val_data[feature], num_iteration=clf.best_iteration)\n",
    "\n",
    "    y_pre += clf.predict(test[feature], num_iteration=clf.best_iteration) / n_fold"
   ]
  },
  {
   "cell_type": "code",
   "execution_count": null,
   "metadata": {},
   "outputs": [],
   "source": [
    "roc_auc_score(test['defaulted'], y_pre)"
   ]
  },
  {
   "cell_type": "code",
   "execution_count": null,
   "metadata": {},
   "outputs": [],
   "source": [
    "pd.Series(y_pre).hist()"
   ]
  },
  {
   "cell_type": "code",
   "execution_count": null,
   "metadata": {},
   "outputs": [],
   "source": [
    "fea_imp = pd.DataFrame()\n",
    "fea_imp['imp'] = clf.feature_importance()\n",
    "fea_imp['fea_name'] = clf.feature_name()\n",
    "fea_imp = fea_imp.sort_values('imp')[:30]\n",
    "plt.figure(figsize=(10, 10))\n",
    "plt.barh(fea_imp['fea_name'],fea_imp['imp'],height =0.5)"
   ]
  }
 ],
 "metadata": {
  "kernelspec": {
   "display_name": "Python 3",
   "language": "python",
   "name": "python3"
  },
  "language_info": {
   "codemirror_mode": {
    "name": "ipython",
    "version": 3
   },
   "file_extension": ".py",
   "mimetype": "text/x-python",
   "name": "python",
   "nbconvert_exporter": "python",
   "pygments_lexer": "ipython3",
   "version": "3.7.4"
  }
 },
 "nbformat": 4,
 "nbformat_minor": 4
}
