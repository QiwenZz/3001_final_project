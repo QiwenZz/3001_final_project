{
 "cells": [
  {
   "cell_type": "code",
   "execution_count": 1,
   "metadata": {},
   "outputs": [],
   "source": [
    "import numpy as np\n",
    "import pandas as pd\n",
    "import matplotlib.pyplot as plt"
   ]
  },
  {
   "cell_type": "code",
   "execution_count": 4,
   "metadata": {
    "scrolled": true
   },
   "outputs": [
    {
     "name": "stderr",
     "output_type": "stream",
     "text": [
      "C:\\Users\\1\\anaconda3\\lib\\site-packages\\numpy\\lib\\arraysetops.py:569: FutureWarning: elementwise comparison failed; returning scalar instead, but in the future will perform elementwise comparison\n",
      "  mask |= (ar1 == a)\n"
     ]
    },
    {
     "data": {
      "text/html": [
       "<div>\n",
       "<style scoped>\n",
       "    .dataframe tbody tr th:only-of-type {\n",
       "        vertical-align: middle;\n",
       "    }\n",
       "\n",
       "    .dataframe tbody tr th {\n",
       "        vertical-align: top;\n",
       "    }\n",
       "\n",
       "    .dataframe thead th {\n",
       "        text-align: right;\n",
       "    }\n",
       "</style>\n",
       "<table border=\"1\" class=\"dataframe\">\n",
       "  <thead>\n",
       "    <tr style=\"text-align: right;\">\n",
       "      <th></th>\n",
       "      <th>id</th>\n",
       "      <th>stmt_date</th>\n",
       "      <th>HQ_city</th>\n",
       "      <th>legal_struct</th>\n",
       "      <th>ateco_sector</th>\n",
       "      <th>def_date</th>\n",
       "      <th>fs_year</th>\n",
       "      <th>asst_intang_fixed</th>\n",
       "      <th>asst_tang_fixed</th>\n",
       "      <th>asst_fixed_fin</th>\n",
       "      <th>...</th>\n",
       "      <th>inc_extraord</th>\n",
       "      <th>taxes</th>\n",
       "      <th>profit</th>\n",
       "      <th>days_rec</th>\n",
       "      <th>ebitda</th>\n",
       "      <th>roa</th>\n",
       "      <th>roe</th>\n",
       "      <th>wc_net</th>\n",
       "      <th>margin_fin</th>\n",
       "      <th>cf_operations</th>\n",
       "    </tr>\n",
       "  </thead>\n",
       "  <tbody>\n",
       "    <tr>\n",
       "      <th>17</th>\n",
       "      <td>520288</td>\n",
       "      <td>2011-12-31</td>\n",
       "      <td>28.0</td>\n",
       "      <td>SRL</td>\n",
       "      <td>14.0</td>\n",
       "      <td>NaT</td>\n",
       "      <td>2011</td>\n",
       "      <td>67537.0</td>\n",
       "      <td>1137566.0</td>\n",
       "      <td>1908.0</td>\n",
       "      <td>...</td>\n",
       "      <td>-309.0</td>\n",
       "      <td>-80959.0</td>\n",
       "      <td>-81288.0</td>\n",
       "      <td>NaN</td>\n",
       "      <td>6318.0</td>\n",
       "      <td>-3.81</td>\n",
       "      <td>-28.03</td>\n",
       "      <td>496258.0</td>\n",
       "      <td>-917029.0</td>\n",
       "      <td>-849.0</td>\n",
       "    </tr>\n",
       "    <tr>\n",
       "      <th>18</th>\n",
       "      <td>520288</td>\n",
       "      <td>2008-12-31</td>\n",
       "      <td>28.0</td>\n",
       "      <td>SRL</td>\n",
       "      <td>14.0</td>\n",
       "      <td>NaT</td>\n",
       "      <td>2008</td>\n",
       "      <td>256438.0</td>\n",
       "      <td>1181416.0</td>\n",
       "      <td>860.0</td>\n",
       "      <td>...</td>\n",
       "      <td>-678.0</td>\n",
       "      <td>-94622.0</td>\n",
       "      <td>-107382.0</td>\n",
       "      <td>NaN</td>\n",
       "      <td>46088.0</td>\n",
       "      <td>-2.76</td>\n",
       "      <td>NaN</td>\n",
       "      <td>97952.0</td>\n",
       "      <td>NaN</td>\n",
       "      <td>-3881.0</td>\n",
       "    </tr>\n",
       "    <tr>\n",
       "      <th>19</th>\n",
       "      <td>520288</td>\n",
       "      <td>2009-12-31</td>\n",
       "      <td>28.0</td>\n",
       "      <td>SRL</td>\n",
       "      <td>14.0</td>\n",
       "      <td>NaT</td>\n",
       "      <td>2009</td>\n",
       "      <td>194046.0</td>\n",
       "      <td>1152014.0</td>\n",
       "      <td>860.0</td>\n",
       "      <td>...</td>\n",
       "      <td>4224.0</td>\n",
       "      <td>-74235.0</td>\n",
       "      <td>-77819.0</td>\n",
       "      <td>NaN</td>\n",
       "      <td>67611.0</td>\n",
       "      <td>-2.17</td>\n",
       "      <td>NaN</td>\n",
       "      <td>-210671.0</td>\n",
       "      <td>NaN</td>\n",
       "      <td>32618.0</td>\n",
       "    </tr>\n",
       "    <tr>\n",
       "      <th>21</th>\n",
       "      <td>520288</td>\n",
       "      <td>2012-12-31</td>\n",
       "      <td>28.0</td>\n",
       "      <td>SRL</td>\n",
       "      <td>14.0</td>\n",
       "      <td>NaT</td>\n",
       "      <td>2012</td>\n",
       "      <td>15195.0</td>\n",
       "      <td>1116938.0</td>\n",
       "      <td>2023.0</td>\n",
       "      <td>...</td>\n",
       "      <td>3634.0</td>\n",
       "      <td>-250786.0</td>\n",
       "      <td>-250786.0</td>\n",
       "      <td>NaN</td>\n",
       "      <td>-161478.0</td>\n",
       "      <td>-12.99</td>\n",
       "      <td>NaN</td>\n",
       "      <td>367892.0</td>\n",
       "      <td>-1094962.0</td>\n",
       "      <td>-168907.0</td>\n",
       "    </tr>\n",
       "    <tr>\n",
       "      <th>22</th>\n",
       "      <td>520288</td>\n",
       "      <td>2007-12-31</td>\n",
       "      <td>28.0</td>\n",
       "      <td>SRL</td>\n",
       "      <td>14.0</td>\n",
       "      <td>NaT</td>\n",
       "      <td>2007</td>\n",
       "      <td>126603.0</td>\n",
       "      <td>1127807.0</td>\n",
       "      <td>620.0</td>\n",
       "      <td>...</td>\n",
       "      <td>820.0</td>\n",
       "      <td>92192.0</td>\n",
       "      <td>36733.0</td>\n",
       "      <td>NaN</td>\n",
       "      <td>153060.0</td>\n",
       "      <td>6.20</td>\n",
       "      <td>52.43</td>\n",
       "      <td>-317007.0</td>\n",
       "      <td>-1184970.0</td>\n",
       "      <td>80039.0</td>\n",
       "    </tr>\n",
       "    <tr>\n",
       "      <th>...</th>\n",
       "      <td>...</td>\n",
       "      <td>...</td>\n",
       "      <td>...</td>\n",
       "      <td>...</td>\n",
       "      <td>...</td>\n",
       "      <td>...</td>\n",
       "      <td>...</td>\n",
       "      <td>...</td>\n",
       "      <td>...</td>\n",
       "      <td>...</td>\n",
       "      <td>...</td>\n",
       "      <td>...</td>\n",
       "      <td>...</td>\n",
       "      <td>...</td>\n",
       "      <td>...</td>\n",
       "      <td>...</td>\n",
       "      <td>...</td>\n",
       "      <td>...</td>\n",
       "      <td>...</td>\n",
       "      <td>...</td>\n",
       "      <td>...</td>\n",
       "    </tr>\n",
       "    <tr>\n",
       "      <th>4885791</th>\n",
       "      <td>92001230520</td>\n",
       "      <td>2011-12-31</td>\n",
       "      <td>52.0</td>\n",
       "      <td>SPA</td>\n",
       "      <td>93.0</td>\n",
       "      <td>NaT</td>\n",
       "      <td>2011</td>\n",
       "      <td>1498628.0</td>\n",
       "      <td>248233.0</td>\n",
       "      <td>163477.0</td>\n",
       "      <td>...</td>\n",
       "      <td>-2.0</td>\n",
       "      <td>85977.0</td>\n",
       "      <td>-268445.0</td>\n",
       "      <td>-15.33</td>\n",
       "      <td>984567.0</td>\n",
       "      <td>2.16</td>\n",
       "      <td>-43.00</td>\n",
       "      <td>204689.0</td>\n",
       "      <td>-1286111.0</td>\n",
       "      <td>550755.0</td>\n",
       "    </tr>\n",
       "    <tr>\n",
       "      <th>4885792</th>\n",
       "      <td>92001230520</td>\n",
       "      <td>2008-12-31</td>\n",
       "      <td>52.0</td>\n",
       "      <td>SPA</td>\n",
       "      <td>93.0</td>\n",
       "      <td>NaT</td>\n",
       "      <td>2008</td>\n",
       "      <td>2465065.0</td>\n",
       "      <td>343015.0</td>\n",
       "      <td>43477.0</td>\n",
       "      <td>...</td>\n",
       "      <td>15339.0</td>\n",
       "      <td>356795.0</td>\n",
       "      <td>6467.0</td>\n",
       "      <td>23.01</td>\n",
       "      <td>1746442.0</td>\n",
       "      <td>12.97</td>\n",
       "      <td>1.01</td>\n",
       "      <td>-472335.0</td>\n",
       "      <td>-2212557.0</td>\n",
       "      <td>945705.0</td>\n",
       "    </tr>\n",
       "    <tr>\n",
       "      <th>4885793</th>\n",
       "      <td>92001230520</td>\n",
       "      <td>2007-12-31</td>\n",
       "      <td>52.0</td>\n",
       "      <td>SPA</td>\n",
       "      <td>93.0</td>\n",
       "      <td>NaT</td>\n",
       "      <td>2007</td>\n",
       "      <td>2375606.0</td>\n",
       "      <td>261775.0</td>\n",
       "      <td>28642.0</td>\n",
       "      <td>...</td>\n",
       "      <td>117032.0</td>\n",
       "      <td>168871.0</td>\n",
       "      <td>3893.0</td>\n",
       "      <td>33.64</td>\n",
       "      <td>1539957.0</td>\n",
       "      <td>6.15</td>\n",
       "      <td>0.62</td>\n",
       "      <td>-78424.0</td>\n",
       "      <td>-2033489.0</td>\n",
       "      <td>1166064.0</td>\n",
       "    </tr>\n",
       "    <tr>\n",
       "      <th>4885815</th>\n",
       "      <td>94111750108</td>\n",
       "      <td>2010-12-31</td>\n",
       "      <td>10.0</td>\n",
       "      <td>SRL</td>\n",
       "      <td>68.0</td>\n",
       "      <td>NaT</td>\n",
       "      <td>2010</td>\n",
       "      <td>2973.0</td>\n",
       "      <td>1131586.0</td>\n",
       "      <td>264600.0</td>\n",
       "      <td>...</td>\n",
       "      <td>0.0</td>\n",
       "      <td>-4793.0</td>\n",
       "      <td>-4793.0</td>\n",
       "      <td>NaN</td>\n",
       "      <td>-4795.0</td>\n",
       "      <td>-0.31</td>\n",
       "      <td>-1.85</td>\n",
       "      <td>148203.0</td>\n",
       "      <td>-1140392.0</td>\n",
       "      <td>-4793.0</td>\n",
       "    </tr>\n",
       "    <tr>\n",
       "      <th>4885817</th>\n",
       "      <td>94111750108</td>\n",
       "      <td>2011-12-31</td>\n",
       "      <td>10.0</td>\n",
       "      <td>SRL</td>\n",
       "      <td>68.0</td>\n",
       "      <td>NaT</td>\n",
       "      <td>2011</td>\n",
       "      <td>2378.0</td>\n",
       "      <td>1140247.0</td>\n",
       "      <td>0.0</td>\n",
       "      <td>...</td>\n",
       "      <td>-8735.0</td>\n",
       "      <td>-20979.0</td>\n",
       "      <td>-22975.0</td>\n",
       "      <td>NaN</td>\n",
       "      <td>-12120.0</td>\n",
       "      <td>-0.85</td>\n",
       "      <td>-8.58</td>\n",
       "      <td>345758.0</td>\n",
       "      <td>-874833.0</td>\n",
       "      <td>-22380.0</td>\n",
       "    </tr>\n",
       "  </tbody>\n",
       "</table>\n",
       "<p>1023552 rows × 43 columns</p>\n",
       "</div>"
      ],
      "text/plain": [
       "                  id   stmt_date  HQ_city legal_struct  ateco_sector def_date  \\\n",
       "17            520288  2011-12-31     28.0          SRL          14.0      NaT   \n",
       "18            520288  2008-12-31     28.0          SRL          14.0      NaT   \n",
       "19            520288  2009-12-31     28.0          SRL          14.0      NaT   \n",
       "21            520288  2012-12-31     28.0          SRL          14.0      NaT   \n",
       "22            520288  2007-12-31     28.0          SRL          14.0      NaT   \n",
       "...              ...         ...      ...          ...           ...      ...   \n",
       "4885791  92001230520  2011-12-31     52.0          SPA          93.0      NaT   \n",
       "4885792  92001230520  2008-12-31     52.0          SPA          93.0      NaT   \n",
       "4885793  92001230520  2007-12-31     52.0          SPA          93.0      NaT   \n",
       "4885815  94111750108  2010-12-31     10.0          SRL          68.0      NaT   \n",
       "4885817  94111750108  2011-12-31     10.0          SRL          68.0      NaT   \n",
       "\n",
       "         fs_year  asst_intang_fixed  asst_tang_fixed  asst_fixed_fin  ...  \\\n",
       "17          2011            67537.0        1137566.0          1908.0  ...   \n",
       "18          2008           256438.0        1181416.0           860.0  ...   \n",
       "19          2009           194046.0        1152014.0           860.0  ...   \n",
       "21          2012            15195.0        1116938.0          2023.0  ...   \n",
       "22          2007           126603.0        1127807.0           620.0  ...   \n",
       "...          ...                ...              ...             ...  ...   \n",
       "4885791     2011          1498628.0         248233.0        163477.0  ...   \n",
       "4885792     2008          2465065.0         343015.0         43477.0  ...   \n",
       "4885793     2007          2375606.0         261775.0         28642.0  ...   \n",
       "4885815     2010             2973.0        1131586.0        264600.0  ...   \n",
       "4885817     2011             2378.0        1140247.0             0.0  ...   \n",
       "\n",
       "         inc_extraord     taxes    profit  days_rec     ebitda    roa    roe  \\\n",
       "17             -309.0  -80959.0  -81288.0       NaN     6318.0  -3.81 -28.03   \n",
       "18             -678.0  -94622.0 -107382.0       NaN    46088.0  -2.76    NaN   \n",
       "19             4224.0  -74235.0  -77819.0       NaN    67611.0  -2.17    NaN   \n",
       "21             3634.0 -250786.0 -250786.0       NaN  -161478.0 -12.99    NaN   \n",
       "22              820.0   92192.0   36733.0       NaN   153060.0   6.20  52.43   \n",
       "...               ...       ...       ...       ...        ...    ...    ...   \n",
       "4885791          -2.0   85977.0 -268445.0    -15.33   984567.0   2.16 -43.00   \n",
       "4885792       15339.0  356795.0    6467.0     23.01  1746442.0  12.97   1.01   \n",
       "4885793      117032.0  168871.0    3893.0     33.64  1539957.0   6.15   0.62   \n",
       "4885815           0.0   -4793.0   -4793.0       NaN    -4795.0  -0.31  -1.85   \n",
       "4885817       -8735.0  -20979.0  -22975.0       NaN   -12120.0  -0.85  -8.58   \n",
       "\n",
       "           wc_net  margin_fin  cf_operations  \n",
       "17       496258.0   -917029.0         -849.0  \n",
       "18        97952.0         NaN        -3881.0  \n",
       "19      -210671.0         NaN        32618.0  \n",
       "21       367892.0  -1094962.0      -168907.0  \n",
       "22      -317007.0  -1184970.0        80039.0  \n",
       "...           ...         ...            ...  \n",
       "4885791  204689.0  -1286111.0       550755.0  \n",
       "4885792 -472335.0  -2212557.0       945705.0  \n",
       "4885793  -78424.0  -2033489.0      1166064.0  \n",
       "4885815  148203.0  -1140392.0        -4793.0  \n",
       "4885817  345758.0   -874833.0       -22380.0  \n",
       "\n",
       "[1023552 rows x 43 columns]"
      ]
     },
     "execution_count": 4,
     "metadata": {},
     "output_type": "execute_result"
    }
   ],
   "source": [
    "data=pd.read_csv('train.csv',index_col=0)\n",
    "data"
   ]
  },
  {
   "cell_type": "code",
   "execution_count": 9,
   "metadata": {
    "scrolled": true
   },
   "outputs": [
    {
     "data": {
      "text/html": [
       "<div>\n",
       "<style scoped>\n",
       "    .dataframe tbody tr th:only-of-type {\n",
       "        vertical-align: middle;\n",
       "    }\n",
       "\n",
       "    .dataframe tbody tr th {\n",
       "        vertical-align: top;\n",
       "    }\n",
       "\n",
       "    .dataframe thead th {\n",
       "        text-align: right;\n",
       "    }\n",
       "</style>\n",
       "<table border=\"1\" class=\"dataframe\">\n",
       "  <thead>\n",
       "    <tr style=\"text-align: right;\">\n",
       "      <th></th>\n",
       "      <th>id</th>\n",
       "      <th>stmt_date</th>\n",
       "      <th>HQ_city</th>\n",
       "      <th>legal_struct</th>\n",
       "      <th>ateco_sector</th>\n",
       "      <th>def_date</th>\n",
       "      <th>fs_year</th>\n",
       "      <th>asst_intang_fixed</th>\n",
       "      <th>asst_tang_fixed</th>\n",
       "      <th>asst_fixed_fin</th>\n",
       "      <th>...</th>\n",
       "      <th>inc_extraord</th>\n",
       "      <th>taxes</th>\n",
       "      <th>profit</th>\n",
       "      <th>days_rec</th>\n",
       "      <th>ebitda</th>\n",
       "      <th>roa</th>\n",
       "      <th>roe</th>\n",
       "      <th>wc_net</th>\n",
       "      <th>margin_fin</th>\n",
       "      <th>cf_operations</th>\n",
       "    </tr>\n",
       "  </thead>\n",
       "  <tbody>\n",
       "    <tr>\n",
       "      <th>4885788</th>\n",
       "      <td>92001230520</td>\n",
       "      <td>2010-12-31</td>\n",
       "      <td>52.0</td>\n",
       "      <td>SPA</td>\n",
       "      <td>93.0</td>\n",
       "      <td>NaT</td>\n",
       "      <td>2010</td>\n",
       "      <td>1772410.0</td>\n",
       "      <td>278312.0</td>\n",
       "      <td>163477.0</td>\n",
       "      <td>...</td>\n",
       "      <td>-59166.0</td>\n",
       "      <td>-51404.0</td>\n",
       "      <td>-341940.0</td>\n",
       "      <td>-25.82</td>\n",
       "      <td>792663.0</td>\n",
       "      <td>-1.08</td>\n",
       "      <td>-38.61</td>\n",
       "      <td>667323.0</td>\n",
       "      <td>-1328634.0</td>\n",
       "      <td>538256.0</td>\n",
       "    </tr>\n",
       "    <tr>\n",
       "      <th>4885789</th>\n",
       "      <td>92001230520</td>\n",
       "      <td>2012-12-31</td>\n",
       "      <td>52.0</td>\n",
       "      <td>SPA</td>\n",
       "      <td>93.0</td>\n",
       "      <td>NaT</td>\n",
       "      <td>2012</td>\n",
       "      <td>899424.0</td>\n",
       "      <td>201592.0</td>\n",
       "      <td>163477.0</td>\n",
       "      <td>...</td>\n",
       "      <td>6563058.0</td>\n",
       "      <td>1384328.0</td>\n",
       "      <td>336897.0</td>\n",
       "      <td>-7.21</td>\n",
       "      <td>-4294763.0</td>\n",
       "      <td>-51.06</td>\n",
       "      <td>35.05</td>\n",
       "      <td>3172278.0</td>\n",
       "      <td>-303369.0</td>\n",
       "      <td>1021229.0</td>\n",
       "    </tr>\n",
       "    <tr>\n",
       "      <th>4885790</th>\n",
       "      <td>92001230520</td>\n",
       "      <td>2009-12-31</td>\n",
       "      <td>52.0</td>\n",
       "      <td>SPA</td>\n",
       "      <td>93.0</td>\n",
       "      <td>NaT</td>\n",
       "      <td>2009</td>\n",
       "      <td>2116710.0</td>\n",
       "      <td>301147.0</td>\n",
       "      <td>123477.0</td>\n",
       "      <td>...</td>\n",
       "      <td>1.0</td>\n",
       "      <td>403886.0</td>\n",
       "      <td>3506.0</td>\n",
       "      <td>6.73</td>\n",
       "      <td>1238478.0</td>\n",
       "      <td>6.03</td>\n",
       "      <td>0.55</td>\n",
       "      <td>-326499.0</td>\n",
       "      <td>-1898828.0</td>\n",
       "      <td>934108.0</td>\n",
       "    </tr>\n",
       "    <tr>\n",
       "      <th>4885791</th>\n",
       "      <td>92001230520</td>\n",
       "      <td>2011-12-31</td>\n",
       "      <td>52.0</td>\n",
       "      <td>SPA</td>\n",
       "      <td>93.0</td>\n",
       "      <td>NaT</td>\n",
       "      <td>2011</td>\n",
       "      <td>1498628.0</td>\n",
       "      <td>248233.0</td>\n",
       "      <td>163477.0</td>\n",
       "      <td>...</td>\n",
       "      <td>-2.0</td>\n",
       "      <td>85977.0</td>\n",
       "      <td>-268445.0</td>\n",
       "      <td>-15.33</td>\n",
       "      <td>984567.0</td>\n",
       "      <td>2.16</td>\n",
       "      <td>-43.00</td>\n",
       "      <td>204689.0</td>\n",
       "      <td>-1286111.0</td>\n",
       "      <td>550755.0</td>\n",
       "    </tr>\n",
       "    <tr>\n",
       "      <th>4885792</th>\n",
       "      <td>92001230520</td>\n",
       "      <td>2008-12-31</td>\n",
       "      <td>52.0</td>\n",
       "      <td>SPA</td>\n",
       "      <td>93.0</td>\n",
       "      <td>NaT</td>\n",
       "      <td>2008</td>\n",
       "      <td>2465065.0</td>\n",
       "      <td>343015.0</td>\n",
       "      <td>43477.0</td>\n",
       "      <td>...</td>\n",
       "      <td>15339.0</td>\n",
       "      <td>356795.0</td>\n",
       "      <td>6467.0</td>\n",
       "      <td>23.01</td>\n",
       "      <td>1746442.0</td>\n",
       "      <td>12.97</td>\n",
       "      <td>1.01</td>\n",
       "      <td>-472335.0</td>\n",
       "      <td>-2212557.0</td>\n",
       "      <td>945705.0</td>\n",
       "    </tr>\n",
       "    <tr>\n",
       "      <th>4885793</th>\n",
       "      <td>92001230520</td>\n",
       "      <td>2007-12-31</td>\n",
       "      <td>52.0</td>\n",
       "      <td>SPA</td>\n",
       "      <td>93.0</td>\n",
       "      <td>NaT</td>\n",
       "      <td>2007</td>\n",
       "      <td>2375606.0</td>\n",
       "      <td>261775.0</td>\n",
       "      <td>28642.0</td>\n",
       "      <td>...</td>\n",
       "      <td>117032.0</td>\n",
       "      <td>168871.0</td>\n",
       "      <td>3893.0</td>\n",
       "      <td>33.64</td>\n",
       "      <td>1539957.0</td>\n",
       "      <td>6.15</td>\n",
       "      <td>0.62</td>\n",
       "      <td>-78424.0</td>\n",
       "      <td>-2033489.0</td>\n",
       "      <td>1166064.0</td>\n",
       "    </tr>\n",
       "  </tbody>\n",
       "</table>\n",
       "<p>6 rows × 43 columns</p>\n",
       "</div>"
      ],
      "text/plain": [
       "                  id   stmt_date  HQ_city legal_struct  ateco_sector def_date  \\\n",
       "4885788  92001230520  2010-12-31     52.0          SPA          93.0      NaT   \n",
       "4885789  92001230520  2012-12-31     52.0          SPA          93.0      NaT   \n",
       "4885790  92001230520  2009-12-31     52.0          SPA          93.0      NaT   \n",
       "4885791  92001230520  2011-12-31     52.0          SPA          93.0      NaT   \n",
       "4885792  92001230520  2008-12-31     52.0          SPA          93.0      NaT   \n",
       "4885793  92001230520  2007-12-31     52.0          SPA          93.0      NaT   \n",
       "\n",
       "         fs_year  asst_intang_fixed  asst_tang_fixed  asst_fixed_fin  ...  \\\n",
       "4885788     2010          1772410.0         278312.0        163477.0  ...   \n",
       "4885789     2012           899424.0         201592.0        163477.0  ...   \n",
       "4885790     2009          2116710.0         301147.0        123477.0  ...   \n",
       "4885791     2011          1498628.0         248233.0        163477.0  ...   \n",
       "4885792     2008          2465065.0         343015.0         43477.0  ...   \n",
       "4885793     2007          2375606.0         261775.0         28642.0  ...   \n",
       "\n",
       "         inc_extraord      taxes    profit  days_rec     ebitda    roa    roe  \\\n",
       "4885788      -59166.0   -51404.0 -341940.0    -25.82   792663.0  -1.08 -38.61   \n",
       "4885789     6563058.0  1384328.0  336897.0     -7.21 -4294763.0 -51.06  35.05   \n",
       "4885790           1.0   403886.0    3506.0      6.73  1238478.0   6.03   0.55   \n",
       "4885791          -2.0    85977.0 -268445.0    -15.33   984567.0   2.16 -43.00   \n",
       "4885792       15339.0   356795.0    6467.0     23.01  1746442.0  12.97   1.01   \n",
       "4885793      117032.0   168871.0    3893.0     33.64  1539957.0   6.15   0.62   \n",
       "\n",
       "            wc_net  margin_fin  cf_operations  \n",
       "4885788   667323.0  -1328634.0       538256.0  \n",
       "4885789  3172278.0   -303369.0      1021229.0  \n",
       "4885790  -326499.0  -1898828.0       934108.0  \n",
       "4885791   204689.0  -1286111.0       550755.0  \n",
       "4885792  -472335.0  -2212557.0       945705.0  \n",
       "4885793   -78424.0  -2033489.0      1166064.0  \n",
       "\n",
       "[6 rows x 43 columns]"
      ]
     },
     "execution_count": 9,
     "metadata": {},
     "output_type": "execute_result"
    }
   ],
   "source": [
    "data.loc[data['id']==92001230520]"
   ]
  },
  {
   "cell_type": "code",
   "execution_count": 20,
   "metadata": {},
   "outputs": [],
   "source": [
    "data['is_default']=data['def_date']!='NaT'"
   ]
  },
  {
   "cell_type": "code",
   "execution_count": 37,
   "metadata": {},
   "outputs": [],
   "source": [
    "def_data=data.loc[data['is_default']]"
   ]
  },
  {
   "cell_type": "code",
   "execution_count": 25,
   "metadata": {},
   "outputs": [
    {
     "data": {
      "text/html": [
       "<div>\n",
       "<style scoped>\n",
       "    .dataframe tbody tr th:only-of-type {\n",
       "        vertical-align: middle;\n",
       "    }\n",
       "\n",
       "    .dataframe tbody tr th {\n",
       "        vertical-align: top;\n",
       "    }\n",
       "\n",
       "    .dataframe thead th {\n",
       "        text-align: right;\n",
       "    }\n",
       "</style>\n",
       "<table border=\"1\" class=\"dataframe\">\n",
       "  <thead>\n",
       "    <tr style=\"text-align: right;\">\n",
       "      <th></th>\n",
       "      <th>def_date</th>\n",
       "      <th>stmt_date</th>\n",
       "    </tr>\n",
       "  </thead>\n",
       "  <tbody>\n",
       "    <tr>\n",
       "      <th>count</th>\n",
       "      <td>55424</td>\n",
       "      <td>55424</td>\n",
       "    </tr>\n",
       "    <tr>\n",
       "      <th>unique</th>\n",
       "      <td>1638</td>\n",
       "      <td>6</td>\n",
       "    </tr>\n",
       "    <tr>\n",
       "      <th>top</th>\n",
       "      <td>19/12/2013</td>\n",
       "      <td>2007-12-31</td>\n",
       "    </tr>\n",
       "    <tr>\n",
       "      <th>freq</th>\n",
       "      <td>303</td>\n",
       "      <td>14109</td>\n",
       "    </tr>\n",
       "  </tbody>\n",
       "</table>\n",
       "</div>"
      ],
      "text/plain": [
       "          def_date   stmt_date\n",
       "count        55424       55424\n",
       "unique        1638           6\n",
       "top     19/12/2013  2007-12-31\n",
       "freq           303       14109"
      ]
     },
     "execution_count": 25,
     "metadata": {},
     "output_type": "execute_result"
    }
   ],
   "source": [
    "data.loc[data['is_default']][['def_date','stmt_date']].describe()"
   ]
  },
  {
   "cell_type": "code",
   "execution_count": 26,
   "metadata": {},
   "outputs": [],
   "source": [
    "data['def_date']=pd.to_datetime(data['def_date'])\n",
    "data['stmt_date']=pd.to_datetime(data['stmt_date'])"
   ]
  },
  {
   "cell_type": "code",
   "execution_count": 29,
   "metadata": {},
   "outputs": [],
   "source": [
    "import datetime"
   ]
  },
  {
   "cell_type": "code",
   "execution_count": 31,
   "metadata": {},
   "outputs": [
    {
     "data": {
      "text/plain": [
       "datetime.timedelta(days=365)"
      ]
     },
     "execution_count": 31,
     "metadata": {},
     "output_type": "execute_result"
    }
   ],
   "source": [
    "datetime.timedelta(days=365)"
   ]
  },
  {
   "cell_type": "code",
   "execution_count": 33,
   "metadata": {
    "scrolled": true
   },
   "outputs": [
    {
     "data": {
      "text/html": [
       "<div>\n",
       "<style scoped>\n",
       "    .dataframe tbody tr th:only-of-type {\n",
       "        vertical-align: middle;\n",
       "    }\n",
       "\n",
       "    .dataframe tbody tr th {\n",
       "        vertical-align: top;\n",
       "    }\n",
       "\n",
       "    .dataframe thead th {\n",
       "        text-align: right;\n",
       "    }\n",
       "</style>\n",
       "<table border=\"1\" class=\"dataframe\">\n",
       "  <thead>\n",
       "    <tr style=\"text-align: right;\">\n",
       "      <th></th>\n",
       "      <th>id</th>\n",
       "      <th>stmt_date</th>\n",
       "      <th>HQ_city</th>\n",
       "      <th>legal_struct</th>\n",
       "      <th>ateco_sector</th>\n",
       "      <th>def_date</th>\n",
       "      <th>fs_year</th>\n",
       "      <th>asst_intang_fixed</th>\n",
       "      <th>asst_tang_fixed</th>\n",
       "      <th>asst_fixed_fin</th>\n",
       "      <th>...</th>\n",
       "      <th>taxes</th>\n",
       "      <th>profit</th>\n",
       "      <th>days_rec</th>\n",
       "      <th>ebitda</th>\n",
       "      <th>roa</th>\n",
       "      <th>roe</th>\n",
       "      <th>wc_net</th>\n",
       "      <th>margin_fin</th>\n",
       "      <th>cf_operations</th>\n",
       "      <th>is_default</th>\n",
       "    </tr>\n",
       "  </thead>\n",
       "  <tbody>\n",
       "    <tr>\n",
       "      <th>4437727</th>\n",
       "      <td>40230625</td>\n",
       "      <td>2007-12-31</td>\n",
       "      <td>63.0</td>\n",
       "      <td>SRU</td>\n",
       "      <td>47.0</td>\n",
       "      <td>2008-10-31</td>\n",
       "      <td>2007</td>\n",
       "      <td>962.0</td>\n",
       "      <td>109805.0</td>\n",
       "      <td>1000.0</td>\n",
       "      <td>...</td>\n",
       "      <td>-132942.0</td>\n",
       "      <td>-118449.0</td>\n",
       "      <td>52.92</td>\n",
       "      <td>-52281.0</td>\n",
       "      <td>-0.88</td>\n",
       "      <td>-131.96</td>\n",
       "      <td>207900.0</td>\n",
       "      <td>-22007.0</td>\n",
       "      <td>-108670.0</td>\n",
       "      <td>True</td>\n",
       "    </tr>\n",
       "    <tr>\n",
       "      <th>4437728</th>\n",
       "      <td>40750382</td>\n",
       "      <td>2007-12-31</td>\n",
       "      <td>38.0</td>\n",
       "      <td>SRU</td>\n",
       "      <td>45.0</td>\n",
       "      <td>2008-07-28</td>\n",
       "      <td>2007</td>\n",
       "      <td>10063.0</td>\n",
       "      <td>3922517.0</td>\n",
       "      <td>12955.0</td>\n",
       "      <td>...</td>\n",
       "      <td>-773649.0</td>\n",
       "      <td>-811105.0</td>\n",
       "      <td>77.31</td>\n",
       "      <td>32139.0</td>\n",
       "      <td>-1.96</td>\n",
       "      <td>NaN</td>\n",
       "      <td>-2199583.0</td>\n",
       "      <td>NaN</td>\n",
       "      <td>-617507.0</td>\n",
       "      <td>True</td>\n",
       "    </tr>\n",
       "    <tr>\n",
       "      <th>4437731</th>\n",
       "      <td>66210931</td>\n",
       "      <td>2007-12-31</td>\n",
       "      <td>93.0</td>\n",
       "      <td>SRL</td>\n",
       "      <td>68.0</td>\n",
       "      <td>2008-12-22</td>\n",
       "      <td>2007</td>\n",
       "      <td>21052.0</td>\n",
       "      <td>898791.0</td>\n",
       "      <td>0.0</td>\n",
       "      <td>...</td>\n",
       "      <td>-153019.0</td>\n",
       "      <td>-167949.0</td>\n",
       "      <td>NaN</td>\n",
       "      <td>-31374.0</td>\n",
       "      <td>-3.12</td>\n",
       "      <td>NaN</td>\n",
       "      <td>-594066.0</td>\n",
       "      <td>-908808.0</td>\n",
       "      <td>-135332.0</td>\n",
       "      <td>True</td>\n",
       "    </tr>\n",
       "    <tr>\n",
       "      <th>4437732</th>\n",
       "      <td>75040931</td>\n",
       "      <td>2007-12-31</td>\n",
       "      <td>93.0</td>\n",
       "      <td>SPA</td>\n",
       "      <td>31.0</td>\n",
       "      <td>2008-11-19</td>\n",
       "      <td>2007</td>\n",
       "      <td>302565.0</td>\n",
       "      <td>1225564.0</td>\n",
       "      <td>537308.0</td>\n",
       "      <td>...</td>\n",
       "      <td>-1434984.0</td>\n",
       "      <td>-1435842.0</td>\n",
       "      <td>NaN</td>\n",
       "      <td>-718172.0</td>\n",
       "      <td>-14.12</td>\n",
       "      <td>NaN</td>\n",
       "      <td>2540474.0</td>\n",
       "      <td>-1891390.0</td>\n",
       "      <td>-1136205.0</td>\n",
       "      <td>True</td>\n",
       "    </tr>\n",
       "    <tr>\n",
       "      <th>4437735</th>\n",
       "      <td>85280527</td>\n",
       "      <td>2007-12-31</td>\n",
       "      <td>52.0</td>\n",
       "      <td>SRL</td>\n",
       "      <td>10.0</td>\n",
       "      <td>2008-05-15</td>\n",
       "      <td>2007</td>\n",
       "      <td>698.0</td>\n",
       "      <td>2497682.0</td>\n",
       "      <td>0.0</td>\n",
       "      <td>...</td>\n",
       "      <td>-200778.0</td>\n",
       "      <td>-200778.0</td>\n",
       "      <td>NaN</td>\n",
       "      <td>-147948.0</td>\n",
       "      <td>-7.35</td>\n",
       "      <td>-8.08</td>\n",
       "      <td>9893.0</td>\n",
       "      <td>-12174.0</td>\n",
       "      <td>-159578.0</td>\n",
       "      <td>True</td>\n",
       "    </tr>\n",
       "    <tr>\n",
       "      <th>...</th>\n",
       "      <td>...</td>\n",
       "      <td>...</td>\n",
       "      <td>...</td>\n",
       "      <td>...</td>\n",
       "      <td>...</td>\n",
       "      <td>...</td>\n",
       "      <td>...</td>\n",
       "      <td>...</td>\n",
       "      <td>...</td>\n",
       "      <td>...</td>\n",
       "      <td>...</td>\n",
       "      <td>...</td>\n",
       "      <td>...</td>\n",
       "      <td>...</td>\n",
       "      <td>...</td>\n",
       "      <td>...</td>\n",
       "      <td>...</td>\n",
       "      <td>...</td>\n",
       "      <td>...</td>\n",
       "      <td>...</td>\n",
       "      <td>...</td>\n",
       "    </tr>\n",
       "    <tr>\n",
       "      <th>4823555</th>\n",
       "      <td>92000200193</td>\n",
       "      <td>2012-12-31</td>\n",
       "      <td>19.0</td>\n",
       "      <td>SRL</td>\n",
       "      <td>41.0</td>\n",
       "      <td>2013-11-15</td>\n",
       "      <td>2012</td>\n",
       "      <td>0.0</td>\n",
       "      <td>565753.0</td>\n",
       "      <td>1227.0</td>\n",
       "      <td>...</td>\n",
       "      <td>-92149.0</td>\n",
       "      <td>-97709.0</td>\n",
       "      <td>NaN</td>\n",
       "      <td>-172276.0</td>\n",
       "      <td>-4.54</td>\n",
       "      <td>-11.81</td>\n",
       "      <td>584486.0</td>\n",
       "      <td>260330.0</td>\n",
       "      <td>-82393.0</td>\n",
       "      <td>True</td>\n",
       "    </tr>\n",
       "    <tr>\n",
       "      <th>4823559</th>\n",
       "      <td>92068990644</td>\n",
       "      <td>2012-12-31</td>\n",
       "      <td>63.0</td>\n",
       "      <td>SRL</td>\n",
       "      <td>68.0</td>\n",
       "      <td>2013-02-05</td>\n",
       "      <td>2012</td>\n",
       "      <td>11141.0</td>\n",
       "      <td>6765962.0</td>\n",
       "      <td>0.0</td>\n",
       "      <td>...</td>\n",
       "      <td>103330.0</td>\n",
       "      <td>59670.0</td>\n",
       "      <td>-431.80</td>\n",
       "      <td>113470.0</td>\n",
       "      <td>1.58</td>\n",
       "      <td>0.87</td>\n",
       "      <td>86393.0</td>\n",
       "      <td>84381.0</td>\n",
       "      <td>63383.0</td>\n",
       "      <td>True</td>\n",
       "    </tr>\n",
       "    <tr>\n",
       "      <th>4823565</th>\n",
       "      <td>93004420142</td>\n",
       "      <td>2012-12-31</td>\n",
       "      <td>14.0</td>\n",
       "      <td>SPA</td>\n",
       "      <td>37.0</td>\n",
       "      <td>2013-12-19</td>\n",
       "      <td>2012</td>\n",
       "      <td>276865.0</td>\n",
       "      <td>3616109.0</td>\n",
       "      <td>2800.0</td>\n",
       "      <td>...</td>\n",
       "      <td>6264.0</td>\n",
       "      <td>1654.0</td>\n",
       "      <td>-62.08</td>\n",
       "      <td>200453.0</td>\n",
       "      <td>0.72</td>\n",
       "      <td>0.39</td>\n",
       "      <td>-133980.0</td>\n",
       "      <td>-3475857.0</td>\n",
       "      <td>166140.0</td>\n",
       "      <td>True</td>\n",
       "    </tr>\n",
       "    <tr>\n",
       "      <th>4823585</th>\n",
       "      <td>95086570249</td>\n",
       "      <td>2012-12-31</td>\n",
       "      <td>24.0</td>\n",
       "      <td>SRL</td>\n",
       "      <td>70.0</td>\n",
       "      <td>2013-12-18</td>\n",
       "      <td>2012</td>\n",
       "      <td>0.0</td>\n",
       "      <td>0.0</td>\n",
       "      <td>659430.0</td>\n",
       "      <td>...</td>\n",
       "      <td>120983.0</td>\n",
       "      <td>86288.0</td>\n",
       "      <td>NaN</td>\n",
       "      <td>-22522.0</td>\n",
       "      <td>-0.55</td>\n",
       "      <td>1.91</td>\n",
       "      <td>4088506.0</td>\n",
       "      <td>3849373.0</td>\n",
       "      <td>90255.0</td>\n",
       "      <td>True</td>\n",
       "    </tr>\n",
       "    <tr>\n",
       "      <th>4823597</th>\n",
       "      <td>96026470060</td>\n",
       "      <td>2012-12-31</td>\n",
       "      <td>6.0</td>\n",
       "      <td>SPA</td>\n",
       "      <td>38.0</td>\n",
       "      <td>2013-01-14</td>\n",
       "      <td>2012</td>\n",
       "      <td>74282.0</td>\n",
       "      <td>4897839.0</td>\n",
       "      <td>2001.0</td>\n",
       "      <td>...</td>\n",
       "      <td>-8798499.0</td>\n",
       "      <td>-9223954.0</td>\n",
       "      <td>NaN</td>\n",
       "      <td>-269707.0</td>\n",
       "      <td>-23.26</td>\n",
       "      <td>NaN</td>\n",
       "      <td>-5131487.0</td>\n",
       "      <td>NaN</td>\n",
       "      <td>-819965.0</td>\n",
       "      <td>True</td>\n",
       "    </tr>\n",
       "  </tbody>\n",
       "</table>\n",
       "<p>11521 rows × 44 columns</p>\n",
       "</div>"
      ],
      "text/plain": [
       "                  id  stmt_date  HQ_city legal_struct  ateco_sector  \\\n",
       "4437727     40230625 2007-12-31     63.0          SRU          47.0   \n",
       "4437728     40750382 2007-12-31     38.0          SRU          45.0   \n",
       "4437731     66210931 2007-12-31     93.0          SRL          68.0   \n",
       "4437732     75040931 2007-12-31     93.0          SPA          31.0   \n",
       "4437735     85280527 2007-12-31     52.0          SRL          10.0   \n",
       "...              ...        ...      ...          ...           ...   \n",
       "4823555  92000200193 2012-12-31     19.0          SRL          41.0   \n",
       "4823559  92068990644 2012-12-31     63.0          SRL          68.0   \n",
       "4823565  93004420142 2012-12-31     14.0          SPA          37.0   \n",
       "4823585  95086570249 2012-12-31     24.0          SRL          70.0   \n",
       "4823597  96026470060 2012-12-31      6.0          SPA          38.0   \n",
       "\n",
       "          def_date  fs_year  asst_intang_fixed  asst_tang_fixed  \\\n",
       "4437727 2008-10-31     2007              962.0         109805.0   \n",
       "4437728 2008-07-28     2007            10063.0        3922517.0   \n",
       "4437731 2008-12-22     2007            21052.0         898791.0   \n",
       "4437732 2008-11-19     2007           302565.0        1225564.0   \n",
       "4437735 2008-05-15     2007              698.0        2497682.0   \n",
       "...            ...      ...                ...              ...   \n",
       "4823555 2013-11-15     2012                0.0         565753.0   \n",
       "4823559 2013-02-05     2012            11141.0        6765962.0   \n",
       "4823565 2013-12-19     2012           276865.0        3616109.0   \n",
       "4823585 2013-12-18     2012                0.0              0.0   \n",
       "4823597 2013-01-14     2012            74282.0        4897839.0   \n",
       "\n",
       "         asst_fixed_fin  ...      taxes     profit  days_rec    ebitda    roa  \\\n",
       "4437727          1000.0  ...  -132942.0  -118449.0     52.92  -52281.0  -0.88   \n",
       "4437728         12955.0  ...  -773649.0  -811105.0     77.31   32139.0  -1.96   \n",
       "4437731             0.0  ...  -153019.0  -167949.0       NaN  -31374.0  -3.12   \n",
       "4437732        537308.0  ... -1434984.0 -1435842.0       NaN -718172.0 -14.12   \n",
       "4437735             0.0  ...  -200778.0  -200778.0       NaN -147948.0  -7.35   \n",
       "...                 ...  ...        ...        ...       ...       ...    ...   \n",
       "4823555          1227.0  ...   -92149.0   -97709.0       NaN -172276.0  -4.54   \n",
       "4823559             0.0  ...   103330.0    59670.0   -431.80  113470.0   1.58   \n",
       "4823565          2800.0  ...     6264.0     1654.0    -62.08  200453.0   0.72   \n",
       "4823585        659430.0  ...   120983.0    86288.0       NaN  -22522.0  -0.55   \n",
       "4823597          2001.0  ... -8798499.0 -9223954.0       NaN -269707.0 -23.26   \n",
       "\n",
       "            roe     wc_net  margin_fin  cf_operations  is_default  \n",
       "4437727 -131.96   207900.0    -22007.0      -108670.0        True  \n",
       "4437728     NaN -2199583.0         NaN      -617507.0        True  \n",
       "4437731     NaN  -594066.0   -908808.0      -135332.0        True  \n",
       "4437732     NaN  2540474.0  -1891390.0     -1136205.0        True  \n",
       "4437735   -8.08     9893.0    -12174.0      -159578.0        True  \n",
       "...         ...        ...         ...            ...         ...  \n",
       "4823555  -11.81   584486.0    260330.0       -82393.0        True  \n",
       "4823559    0.87    86393.0     84381.0        63383.0        True  \n",
       "4823565    0.39  -133980.0  -3475857.0       166140.0        True  \n",
       "4823585    1.91  4088506.0   3849373.0        90255.0        True  \n",
       "4823597     NaN -5131487.0         NaN      -819965.0        True  \n",
       "\n",
       "[11521 rows x 44 columns]"
      ]
     },
     "execution_count": 33,
     "metadata": {},
     "output_type": "execute_result"
    }
   ],
   "source": [
    "data.loc[(data['def_date']-data['stmt_date'])<=datetime.timedelta(days=365)]"
   ]
  },
  {
   "cell_type": "code",
   "execution_count": 43,
   "metadata": {},
   "outputs": [
    {
     "data": {
      "text/plain": [
       "count    55424.000000\n",
       "mean       876.225065\n",
       "std        527.448726\n",
       "min          1.000000\n",
       "25%        440.000000\n",
       "50%        800.000000\n",
       "75%       1247.000000\n",
       "max       2192.000000\n",
       "dtype: float64"
      ]
     },
     "execution_count": 43,
     "metadata": {},
     "output_type": "execute_result"
    }
   ],
   "source": [
    "(def_data['def_date']-def_data['stmt_date']).dt.days.describe()"
   ]
  },
  {
   "cell_type": "code",
   "execution_count": 50,
   "metadata": {},
   "outputs": [],
   "source": [
    "data['target']=(data['def_date']-data['stmt_date']).dt.days<=365"
   ]
  },
  {
   "cell_type": "code",
   "execution_count": 54,
   "metadata": {},
   "outputs": [],
   "source": [
    "default_rate=data.loc[data['target']].shape[0]/data.shape[0]"
   ]
  },
  {
   "cell_type": "code",
   "execution_count": 55,
   "metadata": {},
   "outputs": [
    {
     "data": {
      "text/plain": [
       "0.011255901019195899"
      ]
     },
     "execution_count": 55,
     "metadata": {},
     "output_type": "execute_result"
    }
   ],
   "source": [
    "default_rate"
   ]
  },
  {
   "cell_type": "markdown",
   "metadata": {},
   "source": [
    "### Target: if the (def_date- stmt_date)<= 12 months, we take it as 1, otherwise 0."
   ]
  },
  {
   "cell_type": "code",
   "execution_count": 44,
   "metadata": {},
   "outputs": [
    {
     "data": {
      "text/plain": [
       "(1023552, 44)"
      ]
     },
     "execution_count": 44,
     "metadata": {},
     "output_type": "execute_result"
    }
   ],
   "source": [
    "data.shape"
   ]
  },
  {
   "cell_type": "markdown",
   "metadata": {},
   "source": [
    "### Describing Statistics "
   ]
  },
  {
   "cell_type": "markdown",
   "metadata": {},
   "source": [
    "#### ID"
   ]
  },
  {
   "cell_type": "code",
   "execution_count": 48,
   "metadata": {},
   "outputs": [
    {
     "data": {
      "text/plain": [
       "237711"
      ]
     },
     "execution_count": 48,
     "metadata": {},
     "output_type": "execute_result"
    }
   ],
   "source": [
    "data['id'].unique().shape[0]\n",
    "## 237711 家公司"
   ]
  },
  {
   "cell_type": "code",
   "execution_count": 290,
   "metadata": {},
   "outputs": [
    {
     "data": {
      "text/plain": [
       "1     29963\n",
       "2     25870\n",
       "3     23149\n",
       "4     22412\n",
       "5     35148\n",
       "6    101169\n",
       "Name: id, dtype: int64"
      ]
     },
     "execution_count": 290,
     "metadata": {},
     "output_type": "execute_result"
    }
   ],
   "source": [
    "data['id'].value_counts().value_counts().sort_index()"
   ]
  },
  {
   "cell_type": "code",
   "execution_count": 261,
   "metadata": {},
   "outputs": [
    {
     "data": {
      "text/plain": [
       "19634"
      ]
     },
     "execution_count": 261,
     "metadata": {},
     "output_type": "execute_result"
    }
   ],
   "source": [
    "def_data['id'].unique().shape[0]"
   ]
  },
  {
   "cell_type": "code",
   "execution_count": 291,
   "metadata": {
    "scrolled": true
   },
   "outputs": [
    {
     "data": {
      "text/plain": [
       "1    5031\n",
       "2    4349\n",
       "3    3884\n",
       "4    3013\n",
       "5    2151\n",
       "6    1206\n",
       "Name: id, dtype: int64"
      ]
     },
     "execution_count": 291,
     "metadata": {},
     "output_type": "execute_result"
    }
   ],
   "source": [
    "def_data['id'].value_counts().value_counts().sort_index()"
   ]
  },
  {
   "cell_type": "code",
   "execution_count": 292,
   "metadata": {},
   "outputs": [
    {
     "data": {
      "text/plain": [
       "1    0.167907\n",
       "2    0.168110\n",
       "3    0.167783\n",
       "4    0.134437\n",
       "5    0.061198\n",
       "6    0.011921\n",
       "Name: id, dtype: float64"
      ]
     },
     "execution_count": 292,
     "metadata": {},
     "output_type": "execute_result"
    }
   ],
   "source": [
    "def_data['id'].value_counts().value_counts().sort_index()/data['id'].value_counts().value_counts().sort_index()"
   ]
  },
  {
   "cell_type": "markdown",
   "metadata": {},
   "source": [
    "### 借的次数少 default 可能性越大"
   ]
  },
  {
   "cell_type": "markdown",
   "metadata": {},
   "source": [
    "### default 后减小能借的可能性"
   ]
  },
  {
   "cell_type": "markdown",
   "metadata": {},
   "source": [
    "### Q: Some companies with more rows have less possibilities to default？"
   ]
  },
  {
   "cell_type": "markdown",
   "metadata": {},
   "source": [
    "#### stmt_time"
   ]
  },
  {
   "cell_type": "code",
   "execution_count": 72,
   "metadata": {},
   "outputs": [
    {
     "data": {
      "text/plain": [
       "2012    185639\n",
       "2011    184973\n",
       "2010    175399\n",
       "2009    171150\n",
       "2008    161863\n",
       "2007    144528\n",
       "Name: stmt_date, dtype: int64"
      ]
     },
     "execution_count": 72,
     "metadata": {},
     "output_type": "execute_result"
    }
   ],
   "source": [
    "data['stmt_date'].dt.year.value_counts()"
   ]
  },
  {
   "cell_type": "markdown",
   "metadata": {},
   "source": [
    "#### HQ_city"
   ]
  },
  {
   "cell_type": "code",
   "execution_count": 78,
   "metadata": {
    "scrolled": true
   },
   "outputs": [
    {
     "data": {
      "text/plain": [
       "1.0      34781\n",
       "2.0       1794\n",
       "3.0       6133\n",
       "4.0       9785\n",
       "5.0       2481\n",
       "         ...  \n",
       "106.0      213\n",
       "107.0      270\n",
       "108.0    20394\n",
       "109.0     3030\n",
       "110.0     2766\n",
       "Name: HQ_city, Length: 110, dtype: int64"
      ]
     },
     "execution_count": 78,
     "metadata": {},
     "output_type": "execute_result"
    }
   ],
   "source": [
    "data['HQ_city'].value_counts().sort_index()"
   ]
  },
  {
   "cell_type": "code",
   "execution_count": 79,
   "metadata": {},
   "outputs": [],
   "source": [
    "#### categorical feature —— 110 cities intotal"
   ]
  },
  {
   "cell_type": "code",
   "execution_count": 263,
   "metadata": {
    "scrolled": true
   },
   "outputs": [
    {
     "data": {
      "text/plain": [
       "1.0      2074\n",
       "2.0       101\n",
       "3.0       388\n",
       "4.0       441\n",
       "5.0       138\n",
       "         ... \n",
       "106.0       6\n",
       "107.0       8\n",
       "108.0     530\n",
       "109.0     160\n",
       "110.0     153\n",
       "Name: HQ_city, Length: 109, dtype: int64"
      ]
     },
     "execution_count": 263,
     "metadata": {},
     "output_type": "execute_result"
    }
   ],
   "source": [
    "def_data['HQ_city'].value_counts().sort_index()"
   ]
  },
  {
   "cell_type": "code",
   "execution_count": 293,
   "metadata": {},
   "outputs": [
    {
     "data": {
      "text/plain": [
       "793"
      ]
     },
     "execution_count": 293,
     "metadata": {},
     "output_type": "execute_result"
    }
   ],
   "source": [
    "def_data['HQ_city'].value_counts().sort_index()[100]"
   ]
  },
  {
   "cell_type": "code",
   "execution_count": 294,
   "metadata": {},
   "outputs": [
    {
     "data": {
      "text/plain": [
       "9"
      ]
     },
     "execution_count": 294,
     "metadata": {},
     "output_type": "execute_result"
    }
   ],
   "source": [
    "def_data['HQ_city'].value_counts().sort_index()[57]"
   ]
  },
  {
   "cell_type": "code",
   "execution_count": 267,
   "metadata": {},
   "outputs": [],
   "source": [
    "def_city_rate=def_data['HQ_city'].value_counts().sort_index()/data['HQ_city'].value_counts().sort_index()"
   ]
  },
  {
   "cell_type": "code",
   "execution_count": 271,
   "metadata": {
    "scrolled": true
   },
   "outputs": [
    {
     "data": {
      "text/plain": [
       "57.0     0.012397\n",
       "91.0     0.018597\n",
       "94.0     0.023359\n",
       "102.0    0.023732\n",
       "38.0     0.023738\n",
       "           ...   \n",
       "42.0     0.085001\n",
       "31.0     0.086439\n",
       "41.0     0.093933\n",
       "100.0    0.096837\n",
       "105.0         NaN\n",
       "Name: HQ_city, Length: 110, dtype: float64"
      ]
     },
     "execution_count": 271,
     "metadata": {},
     "output_type": "execute_result"
    }
   ],
   "source": [
    "def_city_rate.sort_values()"
   ]
  },
  {
   "cell_type": "markdown",
   "metadata": {},
   "source": [
    "#### legal_struct"
   ]
  },
  {
   "cell_type": "markdown",
   "metadata": {},
   "source": [
    "#### A business legal structure, also known as a business entity, is a government classification that regulates certain aspects of your business. On a federal level, your business legal structure determines your tax burden. On a state level, it can have liability ramifications."
   ]
  },
  {
   "cell_type": "markdown",
   "metadata": {},
   "source": [
    "### significance with tax**"
   ]
  },
  {
   "cell_type": "markdown",
   "metadata": {},
   "source": [
    "#### Legal structure of the firm"
   ]
  },
  {
   "cell_type": "code",
   "execution_count": 81,
   "metadata": {},
   "outputs": [
    {
     "data": {
      "text/plain": [
       "SRL    738994\n",
       "SRU    152455\n",
       "SPA    106246\n",
       "SAU     25599\n",
       "SAA       248\n",
       "SRS        10\n",
       "Name: legal_struct, dtype: int64"
      ]
     },
     "execution_count": 81,
     "metadata": {},
     "output_type": "execute_result"
    }
   ],
   "source": [
    "data['legal_struct'].value_counts()"
   ]
  },
  {
   "cell_type": "code",
   "execution_count": 279,
   "metadata": {},
   "outputs": [
    {
     "data": {
      "text/plain": [
       "SRL    39268\n",
       "SRU    11633\n",
       "SPA     3688\n",
       "SAU      827\n",
       "SAA        7\n",
       "SRS        1\n",
       "Name: legal_struct, dtype: int64"
      ]
     },
     "execution_count": 279,
     "metadata": {},
     "output_type": "execute_result"
    }
   ],
   "source": [
    "def_data['legal_struct'].value_counts()"
   ]
  },
  {
   "cell_type": "code",
   "execution_count": 280,
   "metadata": {},
   "outputs": [
    {
     "data": {
      "text/plain": [
       "SRL    0.053137\n",
       "SRU    0.076304\n",
       "SPA    0.034712\n",
       "SAU    0.032306\n",
       "SAA    0.028226\n",
       "SRS    0.100000\n",
       "Name: legal_struct, dtype: float64"
      ]
     },
     "execution_count": 280,
     "metadata": {},
     "output_type": "execute_result"
    }
   ],
   "source": [
    "def_data['legal_struct'].value_counts()/data['legal_struct'].value_counts()"
   ]
  },
  {
   "cell_type": "markdown",
   "metadata": {},
   "source": [
    "### 解释标号"
   ]
  },
  {
   "cell_type": "markdown",
   "metadata": {},
   "source": [
    "SPA:Società per azioni（ SpA或spa）是意大利的一种公司形式，意思是“有股份的公司”\n",
    "\n",
    "SRL:società a responsabilità limitata (Srl)（字面意思是：有限责任公司）\n"
   ]
  },
  {
   "cell_type": "markdown",
   "metadata": {},
   "source": [
    "#### ateco_sector: Industry sector code (see ATECO sector definition doc)"
   ]
  },
  {
   "cell_type": "markdown",
   "metadata": {},
   "source": [
    "### group 为更粗的行业分类"
   ]
  },
  {
   "cell_type": "code",
   "execution_count": 86,
   "metadata": {
    "scrolled": true
   },
   "outputs": [
    {
     "data": {
      "text/plain": [
       "1.0     15994\n",
       "2.0       562\n",
       "3.0       467\n",
       "5.0        20\n",
       "6.0       152\n",
       "        ...  \n",
       "93.0     5574\n",
       "94.0       24\n",
       "95.0     1022\n",
       "96.0     2599\n",
       "99.0      237\n",
       "Name: ateco_sector, Length: 83, dtype: int64"
      ]
     },
     "execution_count": 86,
     "metadata": {},
     "output_type": "execute_result"
    }
   ],
   "source": [
    "data['ateco_sector'].value_counts().sort_index()"
   ]
  },
  {
   "cell_type": "code",
   "execution_count": 295,
   "metadata": {},
   "outputs": [],
   "source": [
    "def_ateco_rate=def_data['ateco_sector'].value_counts().sort_index()/data['ateco_sector'].value_counts().sort_index()"
   ]
  },
  {
   "cell_type": "code",
   "execution_count": 289,
   "metadata": {
    "scrolled": true
   },
   "outputs": [
    {
     "data": {
      "text/plain": [
       "91.0    0.013423\n",
       "37.0    0.017391\n",
       "35.0    0.017583\n",
       "87.0    0.019620\n",
       "86.0    0.021882\n",
       "          ...   \n",
       "80.0    0.137275\n",
       "84.0    0.147541\n",
       "12.0    0.187500\n",
       "7.0          NaN\n",
       "75.0         NaN\n",
       "Name: ateco_sector, Length: 83, dtype: float64"
      ]
     },
     "execution_count": 289,
     "metadata": {},
     "output_type": "execute_result"
    }
   ],
   "source": [
    "def_ateco_rate.sort_values()"
   ]
  },
  {
   "cell_type": "markdown",
   "metadata": {},
   "source": [
    "#### fs_year:Year of the financial statement XX"
   ]
  },
  {
   "cell_type": "code",
   "execution_count": 89,
   "metadata": {},
   "outputs": [
    {
     "data": {
      "text/plain": [
       "2012    185639\n",
       "2011    184973\n",
       "2010    175399\n",
       "2009    171150\n",
       "2008    161863\n",
       "2007    144528\n",
       "Name: fs_year, dtype: int64"
      ]
     },
     "execution_count": 89,
     "metadata": {},
     "output_type": "execute_result"
    }
   ],
   "source": [
    "data['fs_year'].value_counts()"
   ]
  },
  {
   "cell_type": "markdown",
   "metadata": {},
   "source": [
    "### 与道格拉斯指数联系"
   ]
  },
  {
   "cell_type": "markdown",
   "metadata": {},
   "source": [
    "#### asst_intang_fixed:Intangible assets——An intangible asset is an asset with no physical form. It's a long-term asset that accrues value year over year. Examples of intangible assets include intellectual property, brand recognition and reputation, relationships, and goodwill."
   ]
  },
  {
   "cell_type": "code",
   "execution_count": 91,
   "metadata": {},
   "outputs": [],
   "source": [
    "import seaborn as sns\n",
    "sns.set()"
   ]
  },
  {
   "cell_type": "code",
   "execution_count": 232,
   "metadata": {},
   "outputs": [],
   "source": [
    "def getbars(dataseries,max_value=None,min_value=0,bins=20):\n",
    "    if max_value==None:\n",
    "        max_value=dataseries.max()\n",
    "    quant=dataseries.quantile([0.1*i for i in range(11)])\n",
    "    quant=quant.drop_duplicates()\n",
    "    segs=np.array([(max_value-min_value)/bins*i+min_value for i in range(bins)])\n",
    "    cuts=pd.cut(dataseries,segs)\n",
    "    counts=pd.value_counts(cuts).sort_index()\n",
    "    plt.figure(figsize=(15,5))\n",
    "    b=plt.bar(segs[:-1].astype(str),counts,align='edge',width=1)\n",
    "    print(quant,counts)"
   ]
  },
  {
   "cell_type": "code",
   "execution_count": 233,
   "metadata": {},
   "outputs": [
    {
     "data": {
      "text/plain": [
       "162"
      ]
     },
     "execution_count": 233,
     "metadata": {},
     "output_type": "execute_result"
    }
   ],
   "source": [
    "data[['id','asst_intang_fixed']].loc[data['asst_intang_fixed'].isna()].shape[0]"
   ]
  },
  {
   "cell_type": "code",
   "execution_count": 234,
   "metadata": {},
   "outputs": [],
   "source": [
    "asst_in=data['asst_intang_fixed'].dropna()"
   ]
  },
  {
   "cell_type": "code",
   "execution_count": 235,
   "metadata": {},
   "outputs": [
    {
     "data": {
      "text/plain": [
       "<matplotlib.axes._subplots.AxesSubplot at 0x25f14ad83d0>"
      ]
     },
     "execution_count": 235,
     "metadata": {},
     "output_type": "execute_result"
    },
    {
     "data": {
      "image/png": "[encoded data removed]",
      "text/plain": [
       "<Figure size 432x288 with 1 Axes>"
      ]
     },
     "metadata": {},
     "output_type": "display_data"
    }
   ],
   "source": [
    "sns.distplot(asst_in)"
   ]
  },
  {
   "cell_type": "code",
   "execution_count": 245,
   "metadata": {},
   "outputs": [
    {
     "name": "stdout",
     "output_type": "stream",
     "text": [
      "0.0   -3.442959e+06\n",
      "0.1    0.000000e+00\n",
      "0.3    8.550000e+02\n",
      "0.4    2.889000e+03\n",
      "0.5    7.975000e+03\n",
      "0.6    1.973300e+04\n",
      "0.7    4.796430e+04\n",
      "0.8    1.198360e+05\n",
      "0.9    3.643991e+05\n",
      "1.0    3.708467e+09\n",
      "Name: asst_intang_fixed, dtype: float64 (0.0, 25000.0]          407037\n",
      "(25000.0, 50000.0]       79780\n",
      "(50000.0, 75000.0]       45880\n",
      "(75000.0, 100000.0]      31987\n",
      "(100000.0, 125000.0]     23794\n",
      "(125000.0, 150000.0]     18735\n",
      "(150000.0, 175000.0]     15384\n",
      "(175000.0, 200000.0]     12714\n",
      "(200000.0, 225000.0]     10857\n",
      "(225000.0, 250000.0]      9398\n",
      "(250000.0, 275000.0]      8172\n",
      "(275000.0, 300000.0]      7225\n",
      "(300000.0, 325000.0]      6505\n",
      "(325000.0, 350000.0]      5810\n",
      "(350000.0, 375000.0]      5336\n",
      "(375000.0, 400000.0]      4878\n",
      "(400000.0, 425000.0]      4467\n",
      "(425000.0, 450000.0]      3984\n",
      "(450000.0, 475000.0]      3645\n",
      "Name: asst_intang_fixed, dtype: int64\n"
     ]
    },
    {
     "data": {
      "image/png": "[encoded data removed]",
      "text/plain": [
       "<Figure size 1080x360 with 1 Axes>"
      ]
     },
     "metadata": {},
     "output_type": "display_data"
    }
   ],
   "source": [
    "getbars(asst_in,max_value=500000,min_value=0,bins=20)"
   ]
  },
  {
   "cell_type": "code",
   "execution_count": 300,
   "metadata": {},
   "outputs": [
    {
     "data": {
      "text/plain": [
       "11"
      ]
     },
     "execution_count": 300,
     "metadata": {},
     "output_type": "execute_result"
    }
   ],
   "source": [
    "def_data[['id','asst_intang_fixed']].loc[data['asst_intang_fixed'].isna()].shape[0]"
   ]
  },
  {
   "cell_type": "code",
   "execution_count": 304,
   "metadata": {},
   "outputs": [
    {
     "data": {
      "text/plain": [
       "<matplotlib.axes._subplots.AxesSubplot at 0x25f17c23070>"
      ]
     },
     "execution_count": 304,
     "metadata": {},
     "output_type": "execute_result"
    },
    {
     "data": {
      "image/png": "[encoded data removed]",
      "text/plain": [
       "<Figure size 432x288 with 1 Axes>"
      ]
     },
     "metadata": {},
     "output_type": "display_data"
    }
   ],
   "source": [
    "dfasst_in=def_data['asst_intang_fixed'].dropna()\n",
    "sns.distplot(dfasst_in)"
   ]
  },
  {
   "cell_type": "code",
   "execution_count": 305,
   "metadata": {},
   "outputs": [
    {
     "name": "stdout",
     "output_type": "stream",
     "text": [
      "0.0     -2554740.0\n",
      "0.1            0.0\n",
      "0.2           96.0\n",
      "0.3         1290.0\n",
      "0.4         4150.0\n",
      "0.5        12598.0\n",
      "0.6        34284.0\n",
      "0.7        83197.4\n",
      "0.8       197200.2\n",
      "0.9       509048.0\n",
      "1.0    410639691.0\n",
      "Name: asst_intang_fixed, dtype: float64 (0.0, 25000.0]          20705\n",
      "(25000.0, 50000.0]       4078\n",
      "(50000.0, 75000.0]       2586\n",
      "(75000.0, 100000.0]      1884\n",
      "(100000.0, 125000.0]     1403\n",
      "(125000.0, 150000.0]     1229\n",
      "(150000.0, 175000.0]      974\n",
      "(175000.0, 200000.0]      837\n",
      "(200000.0, 225000.0]      718\n",
      "(225000.0, 250000.0]      638\n",
      "(250000.0, 275000.0]      583\n",
      "(275000.0, 300000.0]      514\n",
      "(300000.0, 325000.0]      497\n",
      "(325000.0, 350000.0]      430\n",
      "(350000.0, 375000.0]      418\n",
      "(375000.0, 400000.0]      355\n",
      "(400000.0, 425000.0]      324\n",
      "(425000.0, 450000.0]      320\n",
      "(450000.0, 475000.0]      274\n",
      "Name: asst_intang_fixed, dtype: int64\n"
     ]
    },
    {
     "data": {
      "image/png": "[encoded data removed]",
      "text/plain": [
       "<Figure size 1080x360 with 1 Axes>"
      ]
     },
     "metadata": {},
     "output_type": "display_data"
    }
   ],
   "source": [
    "getbars(dfasst_in,max_value=500000)"
   ]
  },
  {
   "cell_type": "code",
   "execution_count": 307,
   "metadata": {},
   "outputs": [],
   "source": [
    "df=data"
   ]
  },
  {
   "cell_type": "code",
   "execution_count": 321,
   "metadata": {
    "scrolled": true
   },
   "outputs": [
    {
     "data": {
      "text/plain": [
       "<matplotlib.axes._subplots.AxesSubplot at 0x25f14cfbc70>"
      ]
     },
     "execution_count": 321,
     "metadata": {},
     "output_type": "execute_result"
    },
    {
     "data": {
      "image/png": "[encoded data removed]",
      "text/plain": [
       "<Figure size 432x288 with 1 Axes>"
      ]
     },
     "metadata": {},
     "output_type": "display_data"
    }
   ],
   "source": [
    "col='asst_intang_fixed'\n",
    "df['binned_'+col] = pd.qcut(df[col], 20,duplicates='drop')\n",
    "df[['binned_'+col, 'target']].groupby('binned_'+col).mean().reset_index().sort_values('binned_'+col).set_index('binned_'+col).plot.bar()"
   ]
  },
  {
   "cell_type": "markdown",
   "metadata": {},
   "source": [
    "#### asst_tang_fixed:Tangible Assets"
   ]
  },
  {
   "cell_type": "code",
   "execution_count": 318,
   "metadata": {
    "scrolled": false
   },
   "outputs": [
    {
     "data": {
      "text/plain": [
       "<matplotlib.axes._subplots.AxesSubplot at 0x25f13873bb0>"
      ]
     },
     "execution_count": 318,
     "metadata": {},
     "output_type": "execute_result"
    },
    {
     "data": {
      "image/png": "[encoded data removed]",
      "text/plain": [
       "<Figure size 432x288 with 1 Axes>"
      ]
     },
     "metadata": {},
     "output_type": "display_data"
    }
   ],
   "source": [
    "col='asst_tang_fixed'\n",
    "df['binned_'+col] = pd.qcut(df[col], 20,duplicates='drop')\n",
    "df[['binned_'+col, 'target']].groupby('binned_'+col).mean().reset_index().sort_values('binned_'+col).set_index('binned_'+col).plot.bar()"
   ]
  },
  {
   "cell_type": "code",
   "execution_count": null,
   "metadata": {},
   "outputs": [],
   "source": []
  },
  {
   "cell_type": "code",
   "execution_count": 246,
   "metadata": {},
   "outputs": [
    {
     "data": {
      "text/plain": [
       "103"
      ]
     },
     "execution_count": 246,
     "metadata": {},
     "output_type": "execute_result"
    }
   ],
   "source": [
    "data[['id','asst_tang_fixed']].loc[data['asst_tang_fixed'].isna()].shape[0]"
   ]
  },
  {
   "cell_type": "code",
   "execution_count": 182,
   "metadata": {},
   "outputs": [],
   "source": [
    "asst_tan=data['asst_tang_fixed'].dropna()"
   ]
  },
  {
   "cell_type": "code",
   "execution_count": 248,
   "metadata": {},
   "outputs": [
    {
     "data": {
      "text/plain": [
       "<matplotlib.axes._subplots.AxesSubplot at 0x25f17da6640>"
      ]
     },
     "execution_count": 248,
     "metadata": {},
     "output_type": "execute_result"
    },
    {
     "data": {
      "image/png": "[encoded data removed]",
      "text/plain": [
       "<Figure size 432x288 with 1 Axes>"
      ]
     },
     "metadata": {},
     "output_type": "display_data"
    }
   ],
   "source": [
    "sns.distplot(asst_tan)"
   ]
  },
  {
   "cell_type": "code",
   "execution_count": 251,
   "metadata": {},
   "outputs": [
    {
     "name": "stdout",
     "output_type": "stream",
     "text": [
      "0.0   -1.711468e+06\n",
      "0.1    2.100000e+02\n",
      "0.2    3.441160e+04\n",
      "0.3    1.124040e+05\n",
      "0.4    2.801682e+05\n",
      "0.5    5.958990e+05\n",
      "0.6    1.079321e+06\n",
      "0.7    1.672696e+06\n",
      "0.8    2.636963e+06\n",
      "0.9    5.126046e+06\n",
      "1.0    5.822144e+10\n",
      "Name: asst_tang_fixed, dtype: float64 (0.0, 500000.0]           386564\n",
      "(500000.0, 1000000.0]     113634\n",
      "(1000000.0, 1500000.0]     87865\n",
      "(1500000.0, 2000000.0]     72849\n",
      "(2000000.0, 2500000.0]     48177\n",
      "(2500000.0, 3000000.0]     34757\n",
      "(3000000.0, 3500000.0]     26157\n",
      "(3500000.0, 4000000.0]     20006\n",
      "(4000000.0, 4500000.0]     15886\n",
      "(4500000.0, 5000000.0]     13126\n",
      "(5000000.0, 5500000.0]     10408\n",
      "(5500000.0, 6000000.0]      8962\n",
      "(6000000.0, 6500000.0]      7761\n",
      "(6500000.0, 7000000.0]      6535\n",
      "(7000000.0, 7500000.0]      5558\n",
      "(7500000.0, 8000000.0]      4821\n",
      "(8000000.0, 8500000.0]      4292\n",
      "(8500000.0, 9000000.0]      3767\n",
      "(9000000.0, 9500000.0]      3409\n",
      "Name: asst_tang_fixed, dtype: int64\n"
     ]
    },
    {
     "data": {
      "image/png": "[encoded data removed]",
      "text/plain": [
       "<Figure size 1080x360 with 1 Axes>"
      ]
     },
     "metadata": {},
     "output_type": "display_data"
    }
   ],
   "source": [
    "getbars(asst_tan,max_value=10000000)"
   ]
  },
  {
   "cell_type": "markdown",
   "metadata": {},
   "source": [
    "#### asst_fixed_fin: 有形资产一部分，金融资产， 股票证券 存款k"
   ]
  },
  {
   "cell_type": "code",
   "execution_count": 315,
   "metadata": {},
   "outputs": [
    {
     "data": {
      "text/plain": [
       "<matplotlib.axes._subplots.AxesSubplot at 0x25f14d79a60>"
      ]
     },
     "execution_count": 315,
     "metadata": {},
     "output_type": "execute_result"
    },
    {
     "data": {
      "image/png": "[encoded data removed]",
      "text/plain": [
       "<Figure size 432x288 with 1 Axes>"
      ]
     },
     "metadata": {},
     "output_type": "display_data"
    }
   ],
   "source": [
    "col='asst_fixed_fin'\n",
    "df['binned_'+col] = pd.qcut(df[col], 40,duplicates='drop')\n",
    "df[['binned_'+col, 'target']].groupby('binned_'+col).mean().reset_index().sort_values('binned_'+col).set_index('binned_'+col).plot.bar()"
   ]
  },
  {
   "cell_type": "code",
   "execution_count": 252,
   "metadata": {
    "scrolled": true
   },
   "outputs": [
    {
     "data": {
      "text/plain": [
       "237"
      ]
     },
     "execution_count": 252,
     "metadata": {},
     "output_type": "execute_result"
    }
   ],
   "source": [
    "data[['id','asst_fixed_fin']].loc[data['asst_fixed_fin'].isna()].shape[0]"
   ]
  },
  {
   "cell_type": "code",
   "execution_count": 253,
   "metadata": {},
   "outputs": [],
   "source": [
    "asst_fin=data['asst_fixed_fin'].dropna()"
   ]
  },
  {
   "cell_type": "code",
   "execution_count": 254,
   "metadata": {},
   "outputs": [
    {
     "name": "stdout",
     "output_type": "stream",
     "text": [
      "0.0   -2.490262e+06\n",
      "0.1    0.000000e+00\n",
      "0.4    8.500000e+01\n",
      "0.5    1.378000e+03\n",
      "0.6    6.979000e+03\n",
      "0.7    3.193560e+04\n",
      "0.8    1.634770e+05\n",
      "0.9    9.400100e+05\n",
      "1.0    8.529187e+09\n",
      "Name: asst_fixed_fin, dtype: float64 (0.0, 426459350.0]              647656\n",
      "(426459350.0, 852918700.0]         163\n",
      "(852918700.0, 1279378050.0]         58\n",
      "(1279378050.0, 1705837400.0]        26\n",
      "(1705837400.0, 2132296750.0]        18\n",
      "(2132296750.0, 2558756100.0]         8\n",
      "(2558756100.0, 2985215450.0]         9\n",
      "(2985215450.0, 3411674800.0]         2\n",
      "(3411674800.0, 3838134150.0]         3\n",
      "(3838134150.0, 4264593500.0]         1\n",
      "(4264593500.0, 4691052850.0]         4\n",
      "(4691052850.0, 5117512200.0]         1\n",
      "(5117512200.0, 5543971550.0]         2\n",
      "(5543971550.0, 5970430900.0]         1\n",
      "(5970430900.0, 6396890250.0]         0\n",
      "(6396890250.0, 6823349600.0]         2\n",
      "(6823349600.0, 7249808950.0]         0\n",
      "(7249808950.0, 7676268300.0]         0\n",
      "(7676268300.0, 8102727650.0]         0\n",
      "Name: asst_fixed_fin, dtype: int64\n"
     ]
    },
    {
     "data": {
      "image/png": "[encoded data removed]",
      "text/plain": [
       "<Figure size 1080x360 with 1 Axes>"
      ]
     },
     "metadata": {},
     "output_type": "display_data"
    }
   ],
   "source": [
    "getbars(asst_fin)"
   ]
  },
  {
   "cell_type": "code",
   "execution_count": 226,
   "metadata": {},
   "outputs": [
    {
     "data": {
      "text/plain": [
       "<matplotlib.axes._subplots.AxesSubplot at 0x25f14050490>"
      ]
     },
     "execution_count": 226,
     "metadata": {},
     "output_type": "execute_result"
    },
    {
     "data": {
      "image/png": "[encoded data removed]",
      "text/plain": [
       "<Figure size 432x288 with 1 Axes>"
      ]
     },
     "metadata": {},
     "output_type": "display_data"
    }
   ],
   "source": [
    "sns.distplot(asst_fin)"
   ]
  },
  {
   "cell_type": "code",
   "execution_count": 260,
   "metadata": {},
   "outputs": [
    {
     "name": "stdout",
     "output_type": "stream",
     "text": [
      "0.0   -2.490262e+06\n",
      "0.1    0.000000e+00\n",
      "0.4    8.500000e+01\n",
      "0.5    1.378000e+03\n",
      "0.6    6.979000e+03\n",
      "0.7    3.193560e+04\n",
      "0.8    1.634770e+05\n",
      "0.9    9.400100e+05\n",
      "1.0    8.529187e+09\n",
      "Name: asst_fixed_fin, dtype: float64 (0.0, 250000.0]           468737\n",
      "(250000.0, 500000.0]       41451\n",
      "(500000.0, 750000.0]       23368\n",
      "(750000.0, 1000000.0]      15517\n",
      "(1000000.0, 1250000.0]     12150\n",
      "(1250000.0, 1500000.0]      9423\n",
      "(1500000.0, 1750000.0]      8256\n",
      "(1750000.0, 2000000.0]      6413\n",
      "(2000000.0, 2250000.0]      5640\n",
      "(2250000.0, 2500000.0]      4438\n",
      "(2500000.0, 2750000.0]      4087\n",
      "(2750000.0, 3000000.0]      3373\n",
      "(3000000.0, 3250000.0]      3035\n",
      "(3250000.0, 3500000.0]      2458\n",
      "(3500000.0, 3750000.0]      2295\n",
      "(3750000.0, 4000000.0]      2101\n",
      "(4000000.0, 4250000.0]      1907\n",
      "(4250000.0, 4500000.0]      1585\n",
      "(4500000.0, 4750000.0]      1587\n",
      "Name: asst_fixed_fin, dtype: int64\n"
     ]
    },
    {
     "data": {
      "image/png": "[encoded data removed]",
      "text/plain": [
       "<Figure size 1080x360 with 1 Axes>"
      ]
     },
     "metadata": {},
     "output_type": "display_data"
    }
   ],
   "source": [
    "getbars(asst_fin,max_value=5000000)"
   ]
  },
  {
   "cell_type": "code",
   "execution_count": null,
   "metadata": {},
   "outputs": [],
   "source": []
  },
  {
   "cell_type": "markdown",
   "metadata": {},
   "source": [
    "### total= tangible+intangible  net_asset=total- 债务 "
   ]
  }
 ],
 "metadata": {
  "kernelspec": {
   "display_name": "Python 3",
   "language": "python",
   "name": "python3"
  },
  "language_info": {
   "codemirror_mode": {
    "name": "ipython",
    "version": 3
   },
   "file_extension": ".py",
   "mimetype": "text/x-python",
   "name": "python",
   "nbconvert_exporter": "python",
   "pygments_lexer": "ipython3",
   "version": "3.8.3"
  }
 },
 "nbformat": 4,
 "nbformat_minor": 4
}
