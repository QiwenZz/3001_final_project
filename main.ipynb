{
 "cells": [
  {
   "cell_type": "code",
   "execution_count": 2,
   "metadata": {},
   "outputs": [],
   "source": [
    "import argparse\n",
    "import pandas as pd\n",
    "from scipy.stats.mstats import winsorize\n",
    "import lightgbm as lgb\n",
    "import numpy as np\n",
    "import pickle\n",
    "import joblib"
   ]
  },
  {
   "cell_type": "code",
   "execution_count": 2,
   "metadata": {},
   "outputs": [],
   "source": [
    "def harness(data_path, model = 'rf'):\n",
    "\n",
    "    # Load dataset\n",
    "    df = pd.read_csv(data_path)\n",
    "\n",
    "    # transform column\n",
    "    df['current_asst_liability_ratio'] = df['asst_current']/(df['asst_tot']-df['eqty_tot'])\n",
    "    df['current_ratio_st'] = df['asst_current']/(df['debt_bank_st'] + df['debt_fin_st'] + df['AP_st'] + df['debt_st'])\n",
    "    df['intangible_asst_ratio'] = df['asst_intang_fixed']/df['asst_tot']\n",
    "    df['current_asst_ratio'] = df['asst_current']/df['asst_tot']\n",
    "    df['cash_liability_ratio'] = df['cf_operations']/(df['debt_bank_st'] + df['debt_fin_st'] + df['AP_st'] + df['debt_st'])\n",
    "    df['capital_employed'] = df['asst_tot'] - (df['debt_bank_st'] + df['debt_fin_st'] + df['AP_st'] + df['debt_st'])\n",
    "    df['capital_turnover_ratio'] = (df['rev_operating']-df['COGS'])/df['capital_employed']\n",
    "    df['ROCE'] = df['ebitda']/df['capital_employed']\n",
    "    df['log_total_asset']=np.log(df['asst_tot'])\n",
    "    df['debt_coverage_ratio'] = (df['ebitda'])/(df['debt_st'])\n",
    "    df['leverage'] = (df['asst_tot'] - df['eqty_tot']) / df['eqty_tot']\n",
    "    df['interest_coverage_ratio']=df['ebitda']/df['exp_financing']\n",
    "    df['extraord_ratio'] = df['inc_extraord']/ df['rev_operating']\n",
    "    df['finance_rev_ratio'] = df['inc_financing']/df['rev_operating']\n",
    "    df['equity_asst_ratio'] = df['eqty_tot']/df['asst_tot']\n",
    "    df['cash_asst_ratio'] = df['cf_operations']/df['asst_tot']\n",
    "\n",
    "    # remove irrelavent columns\n",
    "    df = df[['current_ratio_st',\n",
    " 'roa',\n",
    " 'cash_asst_ratio',\n",
    " 'current_asst_ratio',\n",
    " 'current_asst_liability_ratio',\n",
    " 'debt_coverage_ratio',\n",
    " 'intangible_asst_ratio',\n",
    " 'capital_turnover_ratio',\n",
    " 'equity_asst_ratio',\n",
    " 'roe',\n",
    " 'ROCE',\n",
    " 'leverage',\n",
    " 'log_total_asset',\n",
    " 'cash_liability_ratio',\n",
    " 'interest_coverage_ratio',\n",
    " 'finance_rev_ratio',\n",
    " 'capital_employed',\n",
    " 'extraord_ratio']]\n",
    "\n",
    "    # winsorize and fillna\n",
    "    for col in df.columns:\n",
    "        df[col] = pd.Series(winsorize(df[col],limits=[0.2,0.2],nan_policy='omit')) \n",
    "        df[col] = df[col].fillna(df[col].mean())\n",
    "    \n",
    "    if model =='lgb':\n",
    "        clf = lgb.Booster(model_file='model/lgb_classifier.txt')\n",
    "        pd.DataFrame(clf.predict(df),columns=['default_prob']).to_csv('output.csv')        \n",
    "    else:\n",
    "        clf = joblib.load('model/rfs_model.pkl')\n",
    "        pd.DataFrame(clf.predict_proba(df),columns=['default_prob']).to_csv('output.csv')        \n",
    "\n"
   ]
  },
  {
   "cell_type": "code",
   "execution_count": null,
   "metadata": {},
   "outputs": [],
   "source": [
    "# input the holdout sample's path inside of this function\n",
    "harness()"
   ]
  }
 ],
 "metadata": {
  "kernelspec": {
   "display_name": "Python 3",
   "language": "python",
   "name": "python3"
  },
  "language_info": {
   "codemirror_mode": {
    "name": "ipython",
    "version": 3
   },
   "file_extension": ".py",
   "mimetype": "text/x-python",
   "name": "python",
   "nbconvert_exporter": "python",
   "pygments_lexer": "ipython3",
   "version": "3.8.3"
  }
 },
 "nbformat": 4,
 "nbformat_minor": 5
}
