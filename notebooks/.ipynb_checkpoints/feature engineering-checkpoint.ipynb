{
 "cells": [
  {
   "cell_type": "code",
   "execution_count": 1,
   "metadata": {},
   "outputs": [],
   "source": [
    "import pandas as pd\n",
    "import datetime\n",
    "import seaborn as sns\n",
    "import numpy as np\n",
    "import matplotlib.pyplot as plt\n",
    "from scipy.stats import mstats\n",
    "import random"
   ]
  },
  {
   "cell_type": "code",
   "execution_count": 2,
   "metadata": {},
   "outputs": [],
   "source": [
    "df = pd.read_csv('../data/train.csv')"
   ]
  },
  {
   "cell_type": "markdown",
   "metadata": {},
   "source": [
    "- current asset/ current liability \n",
    "- Current Ratio = current asset / current liabilities (short term debt + accounts payable)\n",
    "- intangible asset / total asset  bad\n",
    "- current asset / total asset good\n",
    "- cash ratio  = cash / current liabilities\n",
    "- Capital employed=Total assets−Current liabilities\n",
    "- Capital Turnover Ratio Formula = cogs (Cost of Goods Sold) / Capital Employed\n",
    "- Return on Investment formula (ebit)= operating profit / Total Capital Employed"
   ]
  },
  {
   "cell_type": "code",
   "execution_count": 3,
   "metadata": {},
   "outputs": [],
   "source": [
    "# create default variable\n",
    "def defaulted(ser):\n",
    "    if pd.isnull(ser['def_date']) or (ser['def_date'] - ser['stmt_date']).days > 365:\n",
    "        return 0 \n",
    "    else:\n",
    "        return 1\n",
    "\n",
    "df['stmt_date'] = pd.to_datetime(df['stmt_date'])\n",
    "df['def_date'] = pd.to_datetime(df['def_date'])\n",
    "df['defaulted'] = df.apply(defaulted,axis=1)"
   ]
  },
  {
   "cell_type": "code",
   "execution_count": 4,
   "metadata": {},
   "outputs": [],
   "source": [
    "def plot_distribution(df, col,num=20):\n",
    "    df['binned_'+col] = pd.qcut(df[col], num,duplicates='drop')\n",
    "    df[['binned_'+col, 'defaulted']].groupby('binned_'+col).mean().reset_index().sort_values('binned_'+col).set_index('binned_'+col).plot.bar()"
   ]
  },
  {
   "cell_type": "code",
   "execution_count": 5,
   "metadata": {},
   "outputs": [],
   "source": [
    "df['current_asst_liability_ratio'] = df['asst_current']/(df['asst_tot']-df['eqty_tot'])"
   ]
  },
  {
   "cell_type": "code",
   "execution_count": 6,
   "metadata": {},
   "outputs": [],
   "source": [
    "df['current_ratio_st'] = df['asst_current']/(df['debt_bank_st'] + df['debt_fin_st'] + df['AP_st'] + df['debt_st'])"
   ]
  },
  {
   "cell_type": "code",
   "execution_count": 7,
   "metadata": {},
   "outputs": [],
   "source": [
    "df['intangible_asst_ratio'] = df['asst_intang_fixed']/df['asst_tot']"
   ]
  },
  {
   "cell_type": "code",
   "execution_count": 8,
   "metadata": {},
   "outputs": [],
   "source": [
    "df['current_asst_ratio'] = df['asst_current']/df['asst_tot']"
   ]
  },
  {
   "cell_type": "code",
   "execution_count": 9,
   "metadata": {},
   "outputs": [],
   "source": [
    "df['cash_ratio'] = df['cf_operations']/(df['debt_bank_st'] + df['debt_fin_st'] + df['AP_st'] + df['debt_st'])"
   ]
  },
  {
   "cell_type": "code",
   "execution_count": 10,
   "metadata": {},
   "outputs": [
    {
     "data": {
      "text/html": [
       "<div>\n",
       "<style scoped>\n",
       "    .dataframe tbody tr th:only-of-type {\n",
       "        vertical-align: middle;\n",
       "    }\n",
       "\n",
       "    .dataframe tbody tr th {\n",
       "        vertical-align: top;\n",
       "    }\n",
       "\n",
       "    .dataframe thead th {\n",
       "        text-align: right;\n",
       "    }\n",
       "</style>\n",
       "<table border=\"1\" class=\"dataframe\">\n",
       "  <thead>\n",
       "    <tr style=\"text-align: right;\">\n",
       "      <th></th>\n",
       "      <th>cash_ratio</th>\n",
       "      <th>cf_operations</th>\n",
       "      <th>debt_bank_st</th>\n",
       "      <th>debt_fin_st</th>\n",
       "      <th>AP_st</th>\n",
       "      <th>debt_st</th>\n",
       "    </tr>\n",
       "  </thead>\n",
       "  <tbody>\n",
       "    <tr>\n",
       "      <th>2373</th>\n",
       "      <td>-inf</td>\n",
       "      <td>-24547.0</td>\n",
       "      <td>0.0</td>\n",
       "      <td>0.0</td>\n",
       "      <td>0.0</td>\n",
       "      <td>0.0</td>\n",
       "    </tr>\n",
       "    <tr>\n",
       "      <th>8125</th>\n",
       "      <td>-inf</td>\n",
       "      <td>-512074.0</td>\n",
       "      <td>0.0</td>\n",
       "      <td>0.0</td>\n",
       "      <td>0.0</td>\n",
       "      <td>0.0</td>\n",
       "    </tr>\n",
       "    <tr>\n",
       "      <th>14359</th>\n",
       "      <td>-inf</td>\n",
       "      <td>-10148.0</td>\n",
       "      <td>0.0</td>\n",
       "      <td>0.0</td>\n",
       "      <td>0.0</td>\n",
       "      <td>0.0</td>\n",
       "    </tr>\n",
       "    <tr>\n",
       "      <th>14360</th>\n",
       "      <td>-inf</td>\n",
       "      <td>-6725.0</td>\n",
       "      <td>0.0</td>\n",
       "      <td>0.0</td>\n",
       "      <td>0.0</td>\n",
       "      <td>0.0</td>\n",
       "    </tr>\n",
       "    <tr>\n",
       "      <th>16138</th>\n",
       "      <td>-inf</td>\n",
       "      <td>-34044.0</td>\n",
       "      <td>0.0</td>\n",
       "      <td>0.0</td>\n",
       "      <td>0.0</td>\n",
       "      <td>0.0</td>\n",
       "    </tr>\n",
       "    <tr>\n",
       "      <th>...</th>\n",
       "      <td>...</td>\n",
       "      <td>...</td>\n",
       "      <td>...</td>\n",
       "      <td>...</td>\n",
       "      <td>...</td>\n",
       "      <td>...</td>\n",
       "    </tr>\n",
       "    <tr>\n",
       "      <th>1021170</th>\n",
       "      <td>-inf</td>\n",
       "      <td>-2728.0</td>\n",
       "      <td>0.0</td>\n",
       "      <td>0.0</td>\n",
       "      <td>0.0</td>\n",
       "      <td>0.0</td>\n",
       "    </tr>\n",
       "    <tr>\n",
       "      <th>1022128</th>\n",
       "      <td>-inf</td>\n",
       "      <td>-227644.0</td>\n",
       "      <td>0.0</td>\n",
       "      <td>0.0</td>\n",
       "      <td>0.0</td>\n",
       "      <td>0.0</td>\n",
       "    </tr>\n",
       "    <tr>\n",
       "      <th>1022344</th>\n",
       "      <td>-inf</td>\n",
       "      <td>-3888.0</td>\n",
       "      <td>0.0</td>\n",
       "      <td>0.0</td>\n",
       "      <td>0.0</td>\n",
       "      <td>0.0</td>\n",
       "    </tr>\n",
       "    <tr>\n",
       "      <th>1023148</th>\n",
       "      <td>-inf</td>\n",
       "      <td>-510.0</td>\n",
       "      <td>0.0</td>\n",
       "      <td>0.0</td>\n",
       "      <td>0.0</td>\n",
       "      <td>0.0</td>\n",
       "    </tr>\n",
       "    <tr>\n",
       "      <th>1023340</th>\n",
       "      <td>-inf</td>\n",
       "      <td>-322865.0</td>\n",
       "      <td>0.0</td>\n",
       "      <td>0.0</td>\n",
       "      <td>0.0</td>\n",
       "      <td>0.0</td>\n",
       "    </tr>\n",
       "  </tbody>\n",
       "</table>\n",
       "<p>837 rows × 6 columns</p>\n",
       "</div>"
      ],
      "text/plain": [
       "         cash_ratio  cf_operations  debt_bank_st  debt_fin_st  AP_st  debt_st\n",
       "2373           -inf       -24547.0           0.0          0.0    0.0      0.0\n",
       "8125           -inf      -512074.0           0.0          0.0    0.0      0.0\n",
       "14359          -inf       -10148.0           0.0          0.0    0.0      0.0\n",
       "14360          -inf        -6725.0           0.0          0.0    0.0      0.0\n",
       "16138          -inf       -34044.0           0.0          0.0    0.0      0.0\n",
       "...             ...            ...           ...          ...    ...      ...\n",
       "1021170        -inf        -2728.0           0.0          0.0    0.0      0.0\n",
       "1022128        -inf      -227644.0           0.0          0.0    0.0      0.0\n",
       "1022344        -inf        -3888.0           0.0          0.0    0.0      0.0\n",
       "1023148        -inf         -510.0           0.0          0.0    0.0      0.0\n",
       "1023340        -inf      -322865.0           0.0          0.0    0.0      0.0\n",
       "\n",
       "[837 rows x 6 columns]"
      ]
     },
     "execution_count": 10,
     "metadata": {},
     "output_type": "execute_result"
    }
   ],
   "source": [
    "df[df['cash_ratio'] == float('-inf')][['cash_ratio','cf_operations','debt_bank_st','debt_fin_st','AP_st','debt_st']]"
   ]
  },
  {
   "cell_type": "code",
   "execution_count": 11,
   "metadata": {},
   "outputs": [],
   "source": [
    "df['capital_employed'] = df['asst_tot'] - (df['debt_bank_st'] + df['debt_fin_st'] + df['AP_st'] + df['debt_st'])"
   ]
  },
  {
   "cell_type": "code",
   "execution_count": 12,
   "metadata": {},
   "outputs": [],
   "source": [
    "df['capital_turnover_ratio'] = df['COGS']/df['exp_financing']"
   ]
  },
  {
   "cell_type": "code",
   "execution_count": 13,
   "metadata": {},
   "outputs": [],
   "source": [
    "df['return_on_invest'] = df['rev_operating']/df['exp_financing']"
   ]
  },
  {
   "cell_type": "code",
   "execution_count": 14,
   "metadata": {},
   "outputs": [],
   "source": [
    "df['fixed_interest_cover'] = df['return_on_invest'] / df['exp_financing']\n",
    "df['debt_coverage_ratio'] = df['ebitda']/df['inc_financing']\n",
    "df['leverage'] = (df['asst_tot'] - df['eqty_tot']) / df['eqty_tot']\n",
    "df['extraord_ratio'] = df['inc_extraord']/ df['rev_operating']\n",
    "df['finance_rev_ratio'] = df['inc_financing']/df['rev_operating']"
   ]
  },
  {
   "cell_type": "code",
   "execution_count": 15,
   "metadata": {},
   "outputs": [],
   "source": [
    "df['equity_asst_ratio'] = df['eqty_tot']/df['asst_tot']\n",
    "df['cash_asst_ratio'] = df['cf_operations']/df['asst_tot']"
   ]
  },
  {
   "cell_type": "code",
   "execution_count": 18,
   "metadata": {},
   "outputs": [],
   "source": [
    "df.to_csv('with_added_feature.csv')"
   ]
  },
  {
   "cell_type": "code",
   "execution_count": null,
   "metadata": {},
   "outputs": [],
   "source": []
  },
  {
   "cell_type": "code",
   "execution_count": null,
   "metadata": {},
   "outputs": [],
   "source": []
  },
  {
   "cell_type": "code",
   "execution_count": null,
   "metadata": {},
   "outputs": [],
   "source": []
  },
  {
   "cell_type": "code",
   "execution_count": null,
   "metadata": {},
   "outputs": [],
   "source": []
  },
  {
   "cell_type": "code",
   "execution_count": 16,
   "metadata": {},
   "outputs": [],
   "source": [
    "# random test split\n",
    "def random_split(df, train_proportion):\n",
    "    id_lst = df['id'].unique().tolist()\n",
    "    random.shuffle(id_lst)\n",
    "    train_id = id_lst[:int(len(id_lst)*train_proportion)]\n",
    "    test_id = id_lst[int(len(id_lst)*train_proportion):]\n",
    "    return df[df['id'].isin(train_id)], df[df['id'].isin(test_id)]"
   ]
  },
  {
   "cell_type": "code",
   "execution_count": 26,
   "metadata": {},
   "outputs": [],
   "source": [
    "train, test = random_split(df, 0.7)"
   ]
  },
  {
   "cell_type": "code",
   "execution_count": 27,
   "metadata": {},
   "outputs": [
    {
     "data": {
      "text/plain": [
       "(716385, 60)"
      ]
     },
     "execution_count": 27,
     "metadata": {},
     "output_type": "execute_result"
    }
   ],
   "source": [
    "train.shape"
   ]
  },
  {
   "cell_type": "code",
   "execution_count": 28,
   "metadata": {},
   "outputs": [
    {
     "data": {
      "text/plain": [
       "(307167, 60)"
      ]
     },
     "execution_count": 28,
     "metadata": {},
     "output_type": "execute_result"
    }
   ],
   "source": [
    "test.shape"
   ]
  },
  {
   "cell_type": "code",
   "execution_count": 28,
   "metadata": {},
   "outputs": [
    {
     "data": {
      "text/plain": [
       "roa                                 27\n",
       "roe                              72937\n",
       "defaulted                            0\n",
       "current_asst_liability_ratio        12\n",
       "current_ratio_st                122834\n",
       "intangible_asst_ratio              162\n",
       "current_asst_ratio                   1\n",
       "cash_ratio                      122927\n",
       "capital_employed                122817\n",
       "capital_turnover_ratio             732\n",
       "return_on_invest                  8061\n",
       "fixed_interest_cover              8061\n",
       "debt_coverage_ratio                707\n",
       "leverage                             1\n",
       "extraord_ratio                   13710\n",
       "finance_rev_ratio                 2957\n",
       "equity_asst_ratio                    1\n",
       "cash_asst_ratio                     88\n",
       "dtype: int64"
      ]
     },
     "execution_count": 28,
     "metadata": {},
     "output_type": "execute_result"
    }
   ],
   "source": [
    "df.iloc[:,39:].drop(columns = ['wc_net','margin_fin','cf_operations']).isnull().sum()"
   ]
  },
  {
   "cell_type": "code",
   "execution_count": null,
   "metadata": {},
   "outputs": [],
   "source": []
  },
  {
   "cell_type": "code",
   "execution_count": 47,
   "metadata": {},
   "outputs": [
    {
     "data": {
      "text/plain": [
       "array([5.50998557])"
      ]
     },
     "execution_count": 47,
     "metadata": {},
     "output_type": "execute_result"
    }
   ],
   "source": [
    "test_series = np.array(mstats.winsorize(df['current_asst_liability_ratio'],limits=[0.02,0.02]))\n",
    "np.quantile(test_series,[1])"
   ]
  },
  {
   "cell_type": "code",
   "execution_count": 22,
   "metadata": {},
   "outputs": [
    {
     "data": {
      "text/plain": [
       "39"
      ]
     },
     "execution_count": 22,
     "metadata": {},
     "output_type": "execute_result"
    }
   ],
   "source": [
    "df.columns.tolist().index('roa')"
   ]
  },
  {
   "cell_type": "code",
   "execution_count": null,
   "metadata": {},
   "outputs": [],
   "source": []
  },
  {
   "cell_type": "code",
   "execution_count": null,
   "metadata": {},
   "outputs": [],
   "source": []
  },
  {
   "cell_type": "code",
   "execution_count": null,
   "metadata": {},
   "outputs": [],
   "source": []
  },
  {
   "cell_type": "code",
   "execution_count": null,
   "metadata": {},
   "outputs": [],
   "source": []
  }
 ],
 "metadata": {
  "kernelspec": {
   "display_name": "Python 3",
   "language": "python",
   "name": "python3"
  },
  "language_info": {
   "codemirror_mode": {
    "name": "ipython",
    "version": 3
   },
   "file_extension": ".py",
   "mimetype": "text/x-python",
   "name": "python",
   "nbconvert_exporter": "python",
   "pygments_lexer": "ipython3",
   "version": "3.8.3"
  }
 },
 "nbformat": 4,
 "nbformat_minor": 4
}
